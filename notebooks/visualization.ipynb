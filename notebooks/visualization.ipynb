{
 "cells": [
  {
   "cell_type": "markdown",
   "metadata": {},
   "source": [
    "# Visualizing Sentiment Scores"
   ]
  },
  {
   "cell_type": "markdown",
   "metadata": {},
   "source": [
    "## Python Setup"
   ]
  },
  {
   "cell_type": "code",
   "execution_count": 1,
   "metadata": {},
   "outputs": [],
   "source": [
    "import pandas as pd\n",
    "import numpy as np\n",
    "import matplotlib.pyplot as plt\n",
    "from matplotlib_venn import venn3\n",
    "from matplotlib_venn import venn2\n",
    "pd.options.display.max_rows = 100"
   ]
  },
  {
   "cell_type": "code",
   "execution_count": 2,
   "metadata": {},
   "outputs": [],
   "source": [
    "# import sys\n",
    "# sys.path.insert(1, '../src')\n",
    "# from data_read_in import get_tweets\n",
    "# import pandas as pd\n",
    "# import numpy as np\n",
    "# import matplotlib.pyplot as plt\n",
    "# from matplotlib_venn import venn3\n",
    "# from matplotlib_venn import venn2\n",
    "# pd.options.display.max_rows = 100\n",
    "\n",
    "# tweets = get_tweets(data_path='../data/processed/', file='geotagged_text_20190715.csv')\n",
    "# tweets['tweet_id'] = pd.to_numeric(tweets['tweet_id'])"
   ]
  },
  {
   "cell_type": "code",
   "execution_count": 82,
   "metadata": {},
   "outputs": [],
   "source": [
    "filename = 201101"
   ]
  },
  {
   "cell_type": "code",
   "execution_count": 65,
   "metadata": {},
   "outputs": [],
   "source": [
    "df_liwc = pd.read_csv('../data/features/sentiment_{}_liwc.csv'.format(filename))\n",
    "df_hedono = pd.read_csv('../data/features/sentiment_{}_hedono.csv'.format(filename))\n",
    "df_emoji = pd.read_csv('../data/features/sentiment_{}_emoji.csv'.format(filename))\n",
    "tweets = pd.read_csv('../data/02_processed/info_{}.csv'.format(filename))"
   ]
  },
  {
   "cell_type": "code",
   "execution_count": 66,
   "metadata": {},
   "outputs": [],
   "source": [
    "del tweets['lang']\n",
    "\n",
    "# Do the Langugage Imputation\n",
    "hit_count_cols = [col for col in list(df_liwc) if col[:10]==\"hit_count_\"]\n",
    "df_liwc['hit_count'] = df_liwc[hit_count_cols].max(axis=1)\n",
    "df_liwc['lang'] = df_liwc[hit_count_cols].idxmax(axis = 1, skipna = True).str.replace('hit_count_', '')\n",
    "df_liwc['score'] = df_liwc.lookup(df_liwc.index, df_liwc['lang'].apply(lambda x: 'score_'+x))\n",
    "df_liwc.loc[df_liwc['hit_count']==0, 'lang'] = np.nan\n",
    "df_liwc = df_liwc[['tweet_id', 'lang', 'hit_count', 'score']]\n",
    "\n",
    "# Merge language imputation onto hedonometer\n",
    "df_hedono['lang'] = df_liwc['lang']\n",
    "df_hedono.loc[df_hedono['lang'].isin(['en', np.nan])==False, 'score'] = np.nan\n",
    "df_hedono.loc[df_hedono['lang'].isin(['en', np.nan])==False, 'hit_count'] = 0\n",
    "df_hedono.loc[df_hedono['hit_count']<3, 'hit_count'] = 0\n",
    "df_hedono.loc[df_hedono['hit_count']<3, 'score'] = np.nan\n",
    "del df_hedono['lang']"
   ]
  },
  {
   "cell_type": "code",
   "execution_count": 83,
   "metadata": {},
   "outputs": [],
   "source": [
    "df = pd.concat([\n",
    "    tweets, \n",
    "    df_liwc.rename(columns={'score':'liwc_score', 'hit_count':'liwc_hit_count'}).drop('tweet_id', 1), \n",
    "    df_hedono.rename(columns={'score':'hedono_score', 'hit_count':'hedono_hit_count'}).drop('tweet_id', 1),\n",
    "    df_emoji.rename(columns={'score':'emoji_score', 'hit_count':'emoji_hit_count'}).drop('tweet_id', 1)\n",
    "], axis=1)\n",
    "\n",
    "score_vars = [var for var in list(df) if var[-6:]==\"_score\"]\n",
    "\n",
    "df['any_score'] = \"No Score\"\n",
    "df.loc[\n",
    "    (df['liwc_score'].notnull())|(df['hedono_score'].notnull())|(df['emoji_score'].notnull()), 'any_score'\n",
    "] = \"Score\"\n",
    "df.loc[df['any_score']==\"No Score\", 'any_score'] = \"No Score (lang: \"+df['lang'].astype(str)+\")\""
   ]
  },
  {
   "cell_type": "code",
   "execution_count": 14,
   "metadata": {},
   "outputs": [],
   "source": [
    "# df['liwc_score'] = np.where(df['indo_score'].notnull(), df['indo_score'], df['liwc_score'])\n",
    "# del df['indo_score']"
   ]
  },
  {
   "cell_type": "code",
   "execution_count": 84,
   "metadata": {},
   "outputs": [
    {
     "data": {
      "text/html": [
       "<div>\n",
       "<style scoped>\n",
       "    .dataframe tbody tr th:only-of-type {\n",
       "        vertical-align: middle;\n",
       "    }\n",
       "\n",
       "    .dataframe tbody tr th {\n",
       "        vertical-align: top;\n",
       "    }\n",
       "\n",
       "    .dataframe thead th {\n",
       "        text-align: right;\n",
       "    }\n",
       "</style>\n",
       "<table border=\"1\" class=\"dataframe\">\n",
       "  <thead>\n",
       "    <tr style=\"text-align: right;\">\n",
       "      <th></th>\n",
       "      <th>tweet_id</th>\n",
       "      <th>time</th>\n",
       "      <th>lat</th>\n",
       "      <th>lon</th>\n",
       "      <th>country</th>\n",
       "      <th>origin</th>\n",
       "      <th>sender_name</th>\n",
       "      <th>lang</th>\n",
       "      <th>liwc_hit_count</th>\n",
       "      <th>liwc_score</th>\n",
       "      <th>hedono_score</th>\n",
       "      <th>hedono_hit_count</th>\n",
       "      <th>emoji_score</th>\n",
       "      <th>emoji_hit_count</th>\n",
       "      <th>any_score</th>\n",
       "    </tr>\n",
       "  </thead>\n",
       "  <tbody>\n",
       "    <tr>\n",
       "      <td>0</td>\n",
       "      <td>3.038483e+16</td>\n",
       "      <td>1.296079e+09</td>\n",
       "      <td>89.703623</td>\n",
       "      <td>-144.519565</td>\n",
       "      <td>NaN</td>\n",
       "      <td>other</td>\n",
       "      <td>googuns_prod</td>\n",
       "      <td>NaN</td>\n",
       "      <td>0.0</td>\n",
       "      <td>NaN</td>\n",
       "      <td>NaN</td>\n",
       "      <td>0.0</td>\n",
       "      <td>NaN</td>\n",
       "      <td>0.0</td>\n",
       "      <td>No Score (lang: nan)</td>\n",
       "    </tr>\n",
       "    <tr>\n",
       "      <td>1</td>\n",
       "      <td>2.844829e+16</td>\n",
       "      <td>1.295618e+09</td>\n",
       "      <td>89.568337</td>\n",
       "      <td>-99.513300</td>\n",
       "      <td>NaN</td>\n",
       "      <td>other</td>\n",
       "      <td>googuns_prod</td>\n",
       "      <td>NaN</td>\n",
       "      <td>0.0</td>\n",
       "      <td>NaN</td>\n",
       "      <td>NaN</td>\n",
       "      <td>0.0</td>\n",
       "      <td>NaN</td>\n",
       "      <td>0.0</td>\n",
       "      <td>No Score (lang: nan)</td>\n",
       "    </tr>\n",
       "    <tr>\n",
       "      <td>2</td>\n",
       "      <td>2.724617e+16</td>\n",
       "      <td>1.295331e+09</td>\n",
       "      <td>89.187881</td>\n",
       "      <td>-149.159519</td>\n",
       "      <td>NaN</td>\n",
       "      <td>other</td>\n",
       "      <td>googuns_prod</td>\n",
       "      <td>NaN</td>\n",
       "      <td>0.0</td>\n",
       "      <td>NaN</td>\n",
       "      <td>NaN</td>\n",
       "      <td>0.0</td>\n",
       "      <td>NaN</td>\n",
       "      <td>0.0</td>\n",
       "      <td>No Score (lang: nan)</td>\n",
       "    </tr>\n",
       "    <tr>\n",
       "      <td>3</td>\n",
       "      <td>2.753274e+16</td>\n",
       "      <td>1.295399e+09</td>\n",
       "      <td>89.078646</td>\n",
       "      <td>126.178778</td>\n",
       "      <td>NaN</td>\n",
       "      <td>other</td>\n",
       "      <td>googuns_staging</td>\n",
       "      <td>NaN</td>\n",
       "      <td>0.0</td>\n",
       "      <td>NaN</td>\n",
       "      <td>NaN</td>\n",
       "      <td>0.0</td>\n",
       "      <td>NaN</td>\n",
       "      <td>0.0</td>\n",
       "      <td>No Score (lang: nan)</td>\n",
       "    </tr>\n",
       "    <tr>\n",
       "      <td>4</td>\n",
       "      <td>2.549842e+16</td>\n",
       "      <td>1.294914e+09</td>\n",
       "      <td>88.924990</td>\n",
       "      <td>-19.012088</td>\n",
       "      <td>NaN</td>\n",
       "      <td>other</td>\n",
       "      <td>googuns_prod</td>\n",
       "      <td>NaN</td>\n",
       "      <td>0.0</td>\n",
       "      <td>NaN</td>\n",
       "      <td>NaN</td>\n",
       "      <td>0.0</td>\n",
       "      <td>NaN</td>\n",
       "      <td>0.0</td>\n",
       "      <td>No Score (lang: nan)</td>\n",
       "    </tr>\n",
       "  </tbody>\n",
       "</table>\n",
       "</div>"
      ],
      "text/plain": [
       "       tweet_id          time        lat         lon country origin  \\\n",
       "0  3.038483e+16  1.296079e+09  89.703623 -144.519565     NaN  other   \n",
       "1  2.844829e+16  1.295618e+09  89.568337  -99.513300     NaN  other   \n",
       "2  2.724617e+16  1.295331e+09  89.187881 -149.159519     NaN  other   \n",
       "3  2.753274e+16  1.295399e+09  89.078646  126.178778     NaN  other   \n",
       "4  2.549842e+16  1.294914e+09  88.924990  -19.012088     NaN  other   \n",
       "\n",
       "       sender_name lang  liwc_hit_count  liwc_score  hedono_score  \\\n",
       "0     googuns_prod  NaN             0.0         NaN           NaN   \n",
       "1     googuns_prod  NaN             0.0         NaN           NaN   \n",
       "2     googuns_prod  NaN             0.0         NaN           NaN   \n",
       "3  googuns_staging  NaN             0.0         NaN           NaN   \n",
       "4     googuns_prod  NaN             0.0         NaN           NaN   \n",
       "\n",
       "   hedono_hit_count  emoji_score  emoji_hit_count             any_score  \n",
       "0               0.0          NaN              0.0  No Score (lang: nan)  \n",
       "1               0.0          NaN              0.0  No Score (lang: nan)  \n",
       "2               0.0          NaN              0.0  No Score (lang: nan)  \n",
       "3               0.0          NaN              0.0  No Score (lang: nan)  \n",
       "4               0.0          NaN              0.0  No Score (lang: nan)  "
      ]
     },
     "execution_count": 84,
     "metadata": {},
     "output_type": "execute_result"
    }
   ],
   "source": [
    "df.head()"
   ]
  },
  {
   "cell_type": "code",
   "execution_count": 85,
   "metadata": {},
   "outputs": [],
   "source": [
    "def score_hist(var):\n",
    "    plt.hist(df[df[var].notnull()][var], bins=list(np.linspace(0,1,21)))\n",
    "    plt.axvline(x=0.5, c='r')\n",
    "    plt.xlim(0,1)\n",
    "    plt.title(var)\n",
    "    plt.show()"
   ]
  },
  {
   "cell_type": "markdown",
   "metadata": {},
   "source": [
    "## Coverage"
   ]
  },
  {
   "cell_type": "code",
   "execution_count": 86,
   "metadata": {},
   "outputs": [
    {
     "data": {
      "image/png": "[encoded data removed]",
      "text/plain": [
       "<Figure size 576x576 with 1 Axes>"
      ]
     },
     "metadata": {},
     "output_type": "display_data"
    }
   ],
   "source": [
    "crosstab = df['any_score'].value_counts(normalize=True).reset_index()\n",
    "plt.figure(figsize=(8,8))\n",
    "plt.pie(crosstab['any_score'], labels=crosstab['index'])\n",
    "plt.show()"
   ]
  },
  {
   "cell_type": "code",
   "execution_count": 76,
   "metadata": {},
   "outputs": [
    {
     "data": {
      "text/html": [
       "<div>\n",
       "<style scoped>\n",
       "    .dataframe tbody tr th:only-of-type {\n",
       "        vertical-align: middle;\n",
       "    }\n",
       "\n",
       "    .dataframe tbody tr th {\n",
       "        vertical-align: top;\n",
       "    }\n",
       "\n",
       "    .dataframe thead th {\n",
       "        text-align: right;\n",
       "    }\n",
       "</style>\n",
       "<table border=\"1\" class=\"dataframe\">\n",
       "  <thead>\n",
       "    <tr style=\"text-align: right;\">\n",
       "      <th></th>\n",
       "      <th>index</th>\n",
       "      <th>any_score</th>\n",
       "    </tr>\n",
       "  </thead>\n",
       "  <tbody>\n",
       "    <tr>\n",
       "      <td>0</td>\n",
       "      <td>Score</td>\n",
       "      <td>0.798887</td>\n",
       "    </tr>\n",
       "    <tr>\n",
       "      <td>1</td>\n",
       "      <td>No Score: nan</td>\n",
       "      <td>0.201113</td>\n",
       "    </tr>\n",
       "  </tbody>\n",
       "</table>\n",
       "</div>"
      ],
      "text/plain": [
       "           index  any_score\n",
       "0          Score   0.798887\n",
       "1  No Score: nan   0.201113"
      ]
     },
     "execution_count": 76,
     "metadata": {},
     "output_type": "execute_result"
    }
   ],
   "source": [
    "crosstab.head()"
   ]
  },
  {
   "cell_type": "markdown",
   "metadata": {},
   "source": [
    "## Comparing Scores"
   ]
  },
  {
   "cell_type": "code",
   "execution_count": 77,
   "metadata": {},
   "outputs": [
    {
     "data": {
      "image/png": "[encoded data removed]",
      "text/plain": [
       "<Figure size 432x288 with 1 Axes>"
      ]
     },
     "metadata": {
      "needs_background": "light"
     },
     "output_type": "display_data"
    },
    {
     "data": {
      "image/png": "[encoded data removed]",
      "text/plain": [
       "<Figure size 432x288 with 1 Axes>"
      ]
     },
     "metadata": {
      "needs_background": "light"
     },
     "output_type": "display_data"
    },
    {
     "data": {
      "image/png": "[encoded data removed]",
      "text/plain": [
       "<Figure size 432x288 with 1 Axes>"
      ]
     },
     "metadata": {
      "needs_background": "light"
     },
     "output_type": "display_data"
    }
   ],
   "source": [
    "for var in score_vars:\n",
    "    score_hist(var)"
   ]
  },
  {
   "cell_type": "code",
   "execution_count": 79,
   "metadata": {},
   "outputs": [
    {
     "data": {
      "image/png": "[encoded data removed]",
      "text/plain": [
       "<Figure size 432x288 with 1 Axes>"
      ]
     },
     "metadata": {},
     "output_type": "display_data"
    }
   ],
   "source": [
    "# Comparing Score Coverage\n",
    "lst1 = list(df[df['liwc_score'].notnull()]['tweet_id'])\n",
    "lst2 = list(df[df['hedono_score'].notnull()]['tweet_id'])\n",
    "lst3 = list(df[df['emoji_score'].notnull()]['tweet_id'])\n",
    "\n",
    "venn3([set(lst1), set(lst2), set(lst3)], set_labels=['LIWC Score', 'Hedonometer Score', 'Emoji Score'])\n",
    "plt.show()"
   ]
  },
  {
   "cell_type": "code",
   "execution_count": 81,
   "metadata": {},
   "outputs": [
    {
     "data": {
      "text/html": [
       "<div>\n",
       "<style scoped>\n",
       "    .dataframe tbody tr th:only-of-type {\n",
       "        vertical-align: middle;\n",
       "    }\n",
       "\n",
       "    .dataframe tbody tr th {\n",
       "        vertical-align: top;\n",
       "    }\n",
       "\n",
       "    .dataframe thead th {\n",
       "        text-align: right;\n",
       "    }\n",
       "</style>\n",
       "<table border=\"1\" class=\"dataframe\">\n",
       "  <thead>\n",
       "    <tr style=\"text-align: right;\">\n",
       "      <th></th>\n",
       "      <th>liwc_score</th>\n",
       "      <th>hedono_score</th>\n",
       "      <th>emoji_score</th>\n",
       "    </tr>\n",
       "  </thead>\n",
       "  <tbody>\n",
       "    <tr>\n",
       "      <td>liwc_score</td>\n",
       "      <td>1.000000</td>\n",
       "      <td>0.612747</td>\n",
       "      <td>0.071422</td>\n",
       "    </tr>\n",
       "    <tr>\n",
       "      <td>hedono_score</td>\n",
       "      <td>0.612747</td>\n",
       "      <td>1.000000</td>\n",
       "      <td>0.282900</td>\n",
       "    </tr>\n",
       "    <tr>\n",
       "      <td>emoji_score</td>\n",
       "      <td>0.071422</td>\n",
       "      <td>0.282900</td>\n",
       "      <td>1.000000</td>\n",
       "    </tr>\n",
       "  </tbody>\n",
       "</table>\n",
       "</div>"
      ],
      "text/plain": [
       "              liwc_score  hedono_score  emoji_score\n",
       "liwc_score      1.000000      0.612747     0.071422\n",
       "hedono_score    0.612747      1.000000     0.282900\n",
       "emoji_score     0.071422      0.282900     1.000000"
      ]
     },
     "execution_count": 81,
     "metadata": {},
     "output_type": "execute_result"
    }
   ],
   "source": [
    "df[['liwc_score', 'hedono_score', 'emoji_score']].corr()"
   ]
  },
  {
   "cell_type": "markdown",
   "metadata": {},
   "source": [
    "## LIWC matching by language"
   ]
  },
  {
   "cell_type": "code",
   "execution_count": 25,
   "metadata": {
    "scrolled": false
   },
   "outputs": [
    {
     "name": "stdout",
     "output_type": "stream",
     "text": [
      "No data for: ['am', 'ar', 'bg', 'bn', 'bo', 'ca', 'ckb', 'cs', 'cy', 'da', 'dv', 'el', 'et', 'eu', 'fa', 'fi', 'gu', 'hi', 'ht', 'hu', 'hy', 'is', 'iw', 'ja', 'ka', 'km', 'kn', 'ko', 'lo', 'lt', 'lv', 'ml', 'mr', 'my', 'ne', 'or', 'pa', 'pl', 'ps', 'ro', 'sd', 'si', 'sl', 'sr', 'sv', 'ta', 'te', 'th', 'tl', 'tr', 'uk', 'und', 'ur', 'vi', 'zh']. \n",
      "\n",
      "Data for: ['de', 'en', 'es', 'fr', 'in', 'it', 'nl', 'no', 'pt', 'ru']\n"
     ]
    },
    {
     "data": {
      "image/png": "[encoded data removed]",
      "text/plain": [
       "<Figure size 432x288 with 1 Axes>"
      ]
     },
     "metadata": {
      "needs_background": "light"
     },
     "output_type": "display_data"
    }
   ],
   "source": [
    "liwc_lang = pd.DataFrame({'lang':df['lang'], 'sentiment':[True if i==1 else False for i in df['liwc_score']]})\n",
    "crosstab = pd.crosstab(liwc_lang['lang'], liwc_lang['sentiment'], normalize='index').reset_index()\n",
    "in_langs = list(crosstab[crosstab[True]>0]['lang'])\n",
    "out_langs = list(crosstab[crosstab[True]==0]['lang'])\n",
    "print(\"No data for: {}. \\n\\nData for: {}\".format(out_langs, in_langs))\n",
    "\n",
    "crosstab_plot = crosstab[crosstab[True]>0]\n",
    "plt.bar(crosstab_plot['lang'], crosstab_plot[True])\n",
    "plt.ylim(0,1)\n",
    "plt.show()"
   ]
  },
  {
   "cell_type": "markdown",
   "metadata": {},
   "source": [
    "# Sandbox"
   ]
  },
  {
   "cell_type": "markdown",
   "metadata": {},
   "source": [
    "## Spot Checking"
   ]
  },
  {
   "cell_type": "code",
   "execution_count": null,
   "metadata": {},
   "outputs": [],
   "source": [
    "list(df[df['ag_score']>0.5]['tweet_id'])[:10]"
   ]
  },
  {
   "cell_type": "code",
   "execution_count": null,
   "metadata": {},
   "outputs": [],
   "source": [
    "tweets['tweet_text'][list(df[df['ag_score']>0.5]['tweet_id'])[1]]"
   ]
  },
  {
   "cell_type": "code",
   "execution_count": null,
   "metadata": {},
   "outputs": [],
   "source": [
    "tweets['tweet_text'][list(df[df['ag_score']>0.5]['tweet_id'])[3]]"
   ]
  },
  {
   "cell_type": "code",
   "execution_count": null,
   "metadata": {},
   "outputs": [],
   "source": [
    "list(df[df['emoji_score']>0.5]['tweet_id'])[:10]"
   ]
  },
  {
   "cell_type": "code",
   "execution_count": null,
   "metadata": {},
   "outputs": [],
   "source": [
    "tweets['tweet_text'][list(df[df['emoji_score']>0.5]['tweet_id'])[0]]"
   ]
  },
  {
   "cell_type": "code",
   "execution_count": null,
   "metadata": {},
   "outputs": [],
   "source": [
    "tweets['tweet_text'][list(df[df['emoji_score']>0.5]['tweet_id'])[3]]"
   ]
  },
  {
   "cell_type": "markdown",
   "metadata": {},
   "source": [
    "## Comparing Score Predictions"
   ]
  },
  {
   "cell_type": "code",
   "execution_count": null,
   "metadata": {},
   "outputs": [],
   "source": [
    "subset = df[(df['ag_score'].notnull())&(df['hedonometer_score'].notnull())].copy()\n",
    "pd.crosstab(subset['ag_prediction'], subset['hedonometer_prediction'], normalize=True)"
   ]
  },
  {
   "cell_type": "code",
   "execution_count": null,
   "metadata": {},
   "outputs": [],
   "source": [
    "list(subset[(subset['ag_prediction']==0)&(subset['hedonometer_prediction']==1)]['tweet_id'])[:10]"
   ]
  },
  {
   "cell_type": "code",
   "execution_count": null,
   "metadata": {},
   "outputs": [],
   "source": [
    "tweets['tweet_text'][list(subset[(subset['ag_prediction']==0)&(subset['hedonometer_prediction']==1)]['tweet_id'])[0]]"
   ]
  },
  {
   "cell_type": "code",
   "execution_count": null,
   "metadata": {},
   "outputs": [],
   "source": [
    "tweets['tweet_text'][list(subset[(subset['ag_prediction']==0)&(subset['hedonometer_prediction']==1)]['tweet_id'])[3]]"
   ]
  },
  {
   "cell_type": "markdown",
   "metadata": {},
   "source": [
    "### Exploring Time"
   ]
  },
  {
   "cell_type": "code",
   "execution_count": 93,
   "metadata": {},
   "outputs": [],
   "source": [
    "from datetime import datetime"
   ]
  },
  {
   "cell_type": "code",
   "execution_count": 98,
   "metadata": {},
   "outputs": [
    {
     "data": {
      "text/plain": [
       "'2011-01-26 22:01:21'"
      ]
     },
     "execution_count": 98,
     "metadata": {},
     "output_type": "execute_result"
    }
   ],
   "source": [
    ".strftime('%Y-%m-%d %H:%M:%S')"
   ]
  },
  {
   "cell_type": "code",
   "execution_count": 100,
   "metadata": {},
   "outputs": [],
   "source": [
    "df['year'] = df['time'].apply(lambda x: datetime.utcfromtimestamp(x).year)\n",
    "df['month'] = df['time'].apply(lambda x: datetime.utcfromtimestamp(x).month)\n",
    "df['day'] = df['time'].apply(lambda x: datetime.utcfromtimestamp(x).day)"
   ]
  },
  {
   "cell_type": "code",
   "execution_count": 101,
   "metadata": {},
   "outputs": [
    {
     "data": {
      "text/html": [
       "<div>\n",
       "<style scoped>\n",
       "    .dataframe tbody tr th:only-of-type {\n",
       "        vertical-align: middle;\n",
       "    }\n",
       "\n",
       "    .dataframe tbody tr th {\n",
       "        vertical-align: top;\n",
       "    }\n",
       "\n",
       "    .dataframe thead th {\n",
       "        text-align: right;\n",
       "    }\n",
       "</style>\n",
       "<table border=\"1\" class=\"dataframe\">\n",
       "  <thead>\n",
       "    <tr style=\"text-align: right;\">\n",
       "      <th></th>\n",
       "      <th>tweet_id</th>\n",
       "      <th>time</th>\n",
       "      <th>lat</th>\n",
       "      <th>lon</th>\n",
       "      <th>country</th>\n",
       "      <th>origin</th>\n",
       "      <th>sender_name</th>\n",
       "      <th>lang</th>\n",
       "      <th>liwc_hit_count</th>\n",
       "      <th>liwc_score</th>\n",
       "      <th>hedono_score</th>\n",
       "      <th>hedono_hit_count</th>\n",
       "      <th>emoji_score</th>\n",
       "      <th>emoji_hit_count</th>\n",
       "      <th>any_score</th>\n",
       "      <th>year</th>\n",
       "      <th>month</th>\n",
       "      <th>day</th>\n",
       "    </tr>\n",
       "  </thead>\n",
       "  <tbody>\n",
       "    <tr>\n",
       "      <td>0</td>\n",
       "      <td>3.038483e+16</td>\n",
       "      <td>1.296079e+09</td>\n",
       "      <td>89.703623</td>\n",
       "      <td>-144.519565</td>\n",
       "      <td>NaN</td>\n",
       "      <td>other</td>\n",
       "      <td>googuns_prod</td>\n",
       "      <td>NaN</td>\n",
       "      <td>0.0</td>\n",
       "      <td>NaN</td>\n",
       "      <td>NaN</td>\n",
       "      <td>0.0</td>\n",
       "      <td>NaN</td>\n",
       "      <td>0.0</td>\n",
       "      <td>No Score (lang: nan)</td>\n",
       "      <td>2011</td>\n",
       "      <td>1</td>\n",
       "      <td>26</td>\n",
       "    </tr>\n",
       "    <tr>\n",
       "      <td>1</td>\n",
       "      <td>2.844829e+16</td>\n",
       "      <td>1.295618e+09</td>\n",
       "      <td>89.568337</td>\n",
       "      <td>-99.513300</td>\n",
       "      <td>NaN</td>\n",
       "      <td>other</td>\n",
       "      <td>googuns_prod</td>\n",
       "      <td>NaN</td>\n",
       "      <td>0.0</td>\n",
       "      <td>NaN</td>\n",
       "      <td>NaN</td>\n",
       "      <td>0.0</td>\n",
       "      <td>NaN</td>\n",
       "      <td>0.0</td>\n",
       "      <td>No Score (lang: nan)</td>\n",
       "      <td>2011</td>\n",
       "      <td>1</td>\n",
       "      <td>21</td>\n",
       "    </tr>\n",
       "    <tr>\n",
       "      <td>2</td>\n",
       "      <td>2.724617e+16</td>\n",
       "      <td>1.295331e+09</td>\n",
       "      <td>89.187881</td>\n",
       "      <td>-149.159519</td>\n",
       "      <td>NaN</td>\n",
       "      <td>other</td>\n",
       "      <td>googuns_prod</td>\n",
       "      <td>NaN</td>\n",
       "      <td>0.0</td>\n",
       "      <td>NaN</td>\n",
       "      <td>NaN</td>\n",
       "      <td>0.0</td>\n",
       "      <td>NaN</td>\n",
       "      <td>0.0</td>\n",
       "      <td>No Score (lang: nan)</td>\n",
       "      <td>2011</td>\n",
       "      <td>1</td>\n",
       "      <td>18</td>\n",
       "    </tr>\n",
       "    <tr>\n",
       "      <td>3</td>\n",
       "      <td>2.753274e+16</td>\n",
       "      <td>1.295399e+09</td>\n",
       "      <td>89.078646</td>\n",
       "      <td>126.178778</td>\n",
       "      <td>NaN</td>\n",
       "      <td>other</td>\n",
       "      <td>googuns_staging</td>\n",
       "      <td>NaN</td>\n",
       "      <td>0.0</td>\n",
       "      <td>NaN</td>\n",
       "      <td>NaN</td>\n",
       "      <td>0.0</td>\n",
       "      <td>NaN</td>\n",
       "      <td>0.0</td>\n",
       "      <td>No Score (lang: nan)</td>\n",
       "      <td>2011</td>\n",
       "      <td>1</td>\n",
       "      <td>19</td>\n",
       "    </tr>\n",
       "    <tr>\n",
       "      <td>4</td>\n",
       "      <td>2.549842e+16</td>\n",
       "      <td>1.294914e+09</td>\n",
       "      <td>88.924990</td>\n",
       "      <td>-19.012088</td>\n",
       "      <td>NaN</td>\n",
       "      <td>other</td>\n",
       "      <td>googuns_prod</td>\n",
       "      <td>NaN</td>\n",
       "      <td>0.0</td>\n",
       "      <td>NaN</td>\n",
       "      <td>NaN</td>\n",
       "      <td>0.0</td>\n",
       "      <td>NaN</td>\n",
       "      <td>0.0</td>\n",
       "      <td>No Score (lang: nan)</td>\n",
       "      <td>2011</td>\n",
       "      <td>1</td>\n",
       "      <td>13</td>\n",
       "    </tr>\n",
       "    <tr>\n",
       "      <td>...</td>\n",
       "      <td>...</td>\n",
       "      <td>...</td>\n",
       "      <td>...</td>\n",
       "      <td>...</td>\n",
       "      <td>...</td>\n",
       "      <td>...</td>\n",
       "      <td>...</td>\n",
       "      <td>...</td>\n",
       "      <td>...</td>\n",
       "      <td>...</td>\n",
       "      <td>...</td>\n",
       "      <td>...</td>\n",
       "      <td>...</td>\n",
       "      <td>...</td>\n",
       "      <td>...</td>\n",
       "      <td>...</td>\n",
       "      <td>...</td>\n",
       "      <td>...</td>\n",
       "    </tr>\n",
       "    <tr>\n",
       "      <td>1255397</td>\n",
       "      <td>2.876790e+16</td>\n",
       "      <td>1.295694e+09</td>\n",
       "      <td>-89.119242</td>\n",
       "      <td>3.143597</td>\n",
       "      <td>Antarctica</td>\n",
       "      <td>other</td>\n",
       "      <td>googuns_prod</td>\n",
       "      <td>NaN</td>\n",
       "      <td>0.0</td>\n",
       "      <td>NaN</td>\n",
       "      <td>NaN</td>\n",
       "      <td>0.0</td>\n",
       "      <td>NaN</td>\n",
       "      <td>0.0</td>\n",
       "      <td>No Score (lang: nan)</td>\n",
       "      <td>2011</td>\n",
       "      <td>1</td>\n",
       "      <td>22</td>\n",
       "    </tr>\n",
       "    <tr>\n",
       "      <td>1255398</td>\n",
       "      <td>3.040861e+16</td>\n",
       "      <td>1.296085e+09</td>\n",
       "      <td>-89.256609</td>\n",
       "      <td>-141.973448</td>\n",
       "      <td>Antarctica</td>\n",
       "      <td>other</td>\n",
       "      <td>googuns_staging</td>\n",
       "      <td>NaN</td>\n",
       "      <td>0.0</td>\n",
       "      <td>NaN</td>\n",
       "      <td>NaN</td>\n",
       "      <td>0.0</td>\n",
       "      <td>NaN</td>\n",
       "      <td>0.0</td>\n",
       "      <td>No Score (lang: nan)</td>\n",
       "      <td>2011</td>\n",
       "      <td>1</td>\n",
       "      <td>26</td>\n",
       "    </tr>\n",
       "    <tr>\n",
       "      <td>1255399</td>\n",
       "      <td>3.132087e+16</td>\n",
       "      <td>1.296302e+09</td>\n",
       "      <td>-89.492687</td>\n",
       "      <td>43.825397</td>\n",
       "      <td>Antarctica</td>\n",
       "      <td>other</td>\n",
       "      <td>googuns_staging</td>\n",
       "      <td>NaN</td>\n",
       "      <td>0.0</td>\n",
       "      <td>NaN</td>\n",
       "      <td>NaN</td>\n",
       "      <td>0.0</td>\n",
       "      <td>NaN</td>\n",
       "      <td>0.0</td>\n",
       "      <td>No Score (lang: nan)</td>\n",
       "      <td>2011</td>\n",
       "      <td>1</td>\n",
       "      <td>29</td>\n",
       "    </tr>\n",
       "    <tr>\n",
       "      <td>1255400</td>\n",
       "      <td>2.812492e+16</td>\n",
       "      <td>1.295540e+09</td>\n",
       "      <td>-89.694591</td>\n",
       "      <td>-147.706353</td>\n",
       "      <td>Antarctica</td>\n",
       "      <td>other</td>\n",
       "      <td>googuns_prod</td>\n",
       "      <td>NaN</td>\n",
       "      <td>0.0</td>\n",
       "      <td>NaN</td>\n",
       "      <td>NaN</td>\n",
       "      <td>0.0</td>\n",
       "      <td>NaN</td>\n",
       "      <td>0.0</td>\n",
       "      <td>No Score (lang: nan)</td>\n",
       "      <td>2011</td>\n",
       "      <td>1</td>\n",
       "      <td>20</td>\n",
       "    </tr>\n",
       "    <tr>\n",
       "      <td>1255401</td>\n",
       "      <td>3.051189e+16</td>\n",
       "      <td>1.296110e+09</td>\n",
       "      <td>-89.715962</td>\n",
       "      <td>93.424813</td>\n",
       "      <td>Antarctica</td>\n",
       "      <td>other</td>\n",
       "      <td>googuns_prod</td>\n",
       "      <td>NaN</td>\n",
       "      <td>0.0</td>\n",
       "      <td>NaN</td>\n",
       "      <td>NaN</td>\n",
       "      <td>0.0</td>\n",
       "      <td>NaN</td>\n",
       "      <td>0.0</td>\n",
       "      <td>No Score (lang: nan)</td>\n",
       "      <td>2011</td>\n",
       "      <td>1</td>\n",
       "      <td>27</td>\n",
       "    </tr>\n",
       "  </tbody>\n",
       "</table>\n",
       "<p>1255402 rows × 18 columns</p>\n",
       "</div>"
      ],
      "text/plain": [
       "             tweet_id          time        lat         lon     country origin  \\\n",
       "0        3.038483e+16  1.296079e+09  89.703623 -144.519565         NaN  other   \n",
       "1        2.844829e+16  1.295618e+09  89.568337  -99.513300         NaN  other   \n",
       "2        2.724617e+16  1.295331e+09  89.187881 -149.159519         NaN  other   \n",
       "3        2.753274e+16  1.295399e+09  89.078646  126.178778         NaN  other   \n",
       "4        2.549842e+16  1.294914e+09  88.924990  -19.012088         NaN  other   \n",
       "...               ...           ...        ...         ...         ...    ...   \n",
       "1255397  2.876790e+16  1.295694e+09 -89.119242    3.143597  Antarctica  other   \n",
       "1255398  3.040861e+16  1.296085e+09 -89.256609 -141.973448  Antarctica  other   \n",
       "1255399  3.132087e+16  1.296302e+09 -89.492687   43.825397  Antarctica  other   \n",
       "1255400  2.812492e+16  1.295540e+09 -89.694591 -147.706353  Antarctica  other   \n",
       "1255401  3.051189e+16  1.296110e+09 -89.715962   93.424813  Antarctica  other   \n",
       "\n",
       "             sender_name lang  liwc_hit_count  liwc_score  hedono_score  \\\n",
       "0           googuns_prod  NaN             0.0         NaN           NaN   \n",
       "1           googuns_prod  NaN             0.0         NaN           NaN   \n",
       "2           googuns_prod  NaN             0.0         NaN           NaN   \n",
       "3        googuns_staging  NaN             0.0         NaN           NaN   \n",
       "4           googuns_prod  NaN             0.0         NaN           NaN   \n",
       "...                  ...  ...             ...         ...           ...   \n",
       "1255397     googuns_prod  NaN             0.0         NaN           NaN   \n",
       "1255398  googuns_staging  NaN             0.0         NaN           NaN   \n",
       "1255399  googuns_staging  NaN             0.0         NaN           NaN   \n",
       "1255400     googuns_prod  NaN             0.0         NaN           NaN   \n",
       "1255401     googuns_prod  NaN             0.0         NaN           NaN   \n",
       "\n",
       "         hedono_hit_count  emoji_score  emoji_hit_count             any_score  \\\n",
       "0                     0.0          NaN              0.0  No Score (lang: nan)   \n",
       "1                     0.0          NaN              0.0  No Score (lang: nan)   \n",
       "2                     0.0          NaN              0.0  No Score (lang: nan)   \n",
       "3                     0.0          NaN              0.0  No Score (lang: nan)   \n",
       "4                     0.0          NaN              0.0  No Score (lang: nan)   \n",
       "...                   ...          ...              ...                   ...   \n",
       "1255397               0.0          NaN              0.0  No Score (lang: nan)   \n",
       "1255398               0.0          NaN              0.0  No Score (lang: nan)   \n",
       "1255399               0.0          NaN              0.0  No Score (lang: nan)   \n",
       "1255400               0.0          NaN              0.0  No Score (lang: nan)   \n",
       "1255401               0.0          NaN              0.0  No Score (lang: nan)   \n",
       "\n",
       "         year  month  day  \n",
       "0        2011      1   26  \n",
       "1        2011      1   21  \n",
       "2        2011      1   18  \n",
       "3        2011      1   19  \n",
       "4        2011      1   13  \n",
       "...       ...    ...  ...  \n",
       "1255397  2011      1   22  \n",
       "1255398  2011      1   26  \n",
       "1255399  2011      1   29  \n",
       "1255400  2011      1   20  \n",
       "1255401  2011      1   27  \n",
       "\n",
       "[1255402 rows x 18 columns]"
      ]
     },
     "execution_count": 101,
     "metadata": {},
     "output_type": "execute_result"
    }
   ],
   "source": [
    "df"
   ]
  },
  {
   "cell_type": "code",
   "execution_count": null,
   "metadata": {},
   "outputs": [],
   "source": []
  }
 ],
 "metadata": {
  "kernelspec": {
   "display_name": "sandbox",
   "language": "python",
   "name": "sandbox"
  },
  "language_info": {
   "codemirror_mode": {
    "name": "ipython",
    "version": 3
   },
   "file_extension": ".py",
   "mimetype": "text/x-python",
   "name": "python",
   "nbconvert_exporter": "python",
   "pygments_lexer": "ipython3",
   "version": "3.7.4"
  }
 },
 "nbformat": 4,
 "nbformat_minor": 2
}
