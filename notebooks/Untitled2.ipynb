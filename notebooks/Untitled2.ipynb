{
 "cells": [
  {
   "cell_type": "code",
   "execution_count": 6,
   "metadata": {},
   "outputs": [],
   "source": [
    "import re\n",
    "from collections import Counter"
   ]
  },
  {
   "cell_type": "code",
   "execution_count": 18,
   "metadata": {},
   "outputs": [],
   "source": [
    "filename = 'Serbian_LIWC2007_Dictionary.dic'"
   ]
  },
  {
   "cell_type": "code",
   "execution_count": 46,
   "metadata": {},
   "outputs": [
    {
     "name": "stdout",
     "output_type": "stream",
     "text": [
      "momentalno\t230\t253\t16\t1\t\t\t\t\n",
      "\n",
      "momentalno\t\t\t253\t16\t1\t\t\t\t\n",
      "\n"
     ]
    }
   ],
   "source": [
    "with open('../dicts/sentiment_dicts/liwc/raw/{}'.format(filename), 'r') as f:\n",
    "    new_file = []\n",
    "    for line in f:\n",
    "        line_clean = line\n",
    "        line_clean = re.sub(\n",
    "            r'\\b(230|156|l250|365|249|145)\\b',\n",
    "            '\\t', line_clean\n",
    "        )\n",
    "        if '230' in line:\n",
    "            print(line)\n",
    "            print(line_clean)\n",
    "        \n",
    "        new_file.append(line_clean)"
   ]
  },
  {
   "cell_type": "code",
   "execution_count": 47,
   "metadata": {},
   "outputs": [],
   "source": [
    "with open('../dicts/sentiment_dicts/liwc/{}'.format(filename), 'w') as f:\n",
    "    for item in new_file:\n",
    "        f.write(item)"
   ]
  },
  {
   "cell_type": "markdown",
   "metadata": {},
   "source": [
    "## Test"
   ]
  },
  {
   "cell_type": "code",
   "execution_count": 48,
   "metadata": {},
   "outputs": [],
   "source": [
    "def read_dic(filepath):\n",
    "    '''\n",
    "    Reads a LIWC lexicon from a file in the .dic format, returning a tuple of\n",
    "    (lexicon, category_names), where:\n",
    "    * `lexicon` is a dict mapping string patterns to lists of category names\n",
    "    * `categories` is a list of category names (as strings)\n",
    "    '''\n",
    "    # category_mapping is a mapping from integer string to category name\n",
    "    category_mapping = {}\n",
    "    # category_names is equivalent to category_mapping.values() but retains original ordering\n",
    "    category_names = []\n",
    "    lexicon = {}\n",
    "    # the mode is incremented by each '%' line in the file\n",
    "    mode = 0\n",
    "    for line in open(filepath, encoding='utf-8-sig'):\n",
    "        tsv = line.strip()\n",
    "        if tsv:\n",
    "            parts = tsv.split()\n",
    "            if parts[0] == '%':\n",
    "                mode += 1\n",
    "            elif mode == 1:\n",
    "                # definining categories\n",
    "                category_names.append(parts[1])\n",
    "                category_mapping[parts[0]] = parts[1]\n",
    "            elif mode == 2:\n",
    "                lexicon[parts[0]] = [category_mapping[category_id] for category_id in parts[1:]]\n",
    "    return lexicon, category_names, category_mapping\n",
    "\n",
    "def _build_trie(lexicon):\n",
    "    '''\n",
    "    Build a character-trie from the plain pattern_string -> categories_list\n",
    "    mapping provided by `lexicon`.\n",
    "    Some LIWC patterns end with a `*` to indicate a wildcard match.\n",
    "    '''\n",
    "    trie = {}\n",
    "    for pattern, category_names in lexicon.items():\n",
    "        cursor = trie\n",
    "        for char in pattern:\n",
    "            if char == '*':\n",
    "                cursor['*'] = category_names\n",
    "                break\n",
    "            if char not in cursor:\n",
    "                cursor[char] = {}\n",
    "            cursor = cursor[char]\n",
    "        cursor['$'] = category_names\n",
    "    return trie\n",
    "\n",
    "\n",
    "def _search_trie(trie, token, token_i=0):\n",
    "    '''\n",
    "    Search the given character-trie for paths that match the `token` string.\n",
    "    '''\n",
    "    if '*' in trie:\n",
    "        return trie['*']\n",
    "    elif '$' in trie and token_i == len(token):\n",
    "        return trie['$']\n",
    "    elif token_i < len(token):\n",
    "        char = token[token_i]\n",
    "        if char in trie:\n",
    "            return _search_trie(trie[char], token, token_i + 1)\n",
    "    return []\n",
    "\n",
    "def load_token_parser(filepath):\n",
    "    '''\n",
    "    Reads a LIWC lexicon from a file in the .dic format, returning a tuple of\n",
    "    (parse, category_names), where:\n",
    "    * `parse` is a function from a token to a list of strings (potentially\n",
    "      empty) of matching categories\n",
    "    * `category_names` is a list of strings representing all LIWC categories in\n",
    "      the lexicon\n",
    "    '''\n",
    "    lexicon, category_names, category_mapping = read_dic(filepath)\n",
    "    trie = _build_trie(lexicon)\n",
    "    return trie, category_mapping\n",
    "\n",
    "def parse_token(token, trie):\n",
    "    for category_name in _search_trie(trie, token):\n",
    "        yield category_name"
   ]
  },
  {
   "cell_type": "code",
   "execution_count": 49,
   "metadata": {},
   "outputs": [],
   "source": [
    "trie, xwalk = load_token_parser('../dicts/sentiment_dicts/liwc/{}'.format(filename))"
   ]
  },
  {
   "cell_type": "code",
   "execution_count": 50,
   "metadata": {},
   "outputs": [
    {
     "data": {
      "text/plain": [
       "Counter()"
      ]
     },
     "execution_count": 50,
     "metadata": {},
     "output_type": "execute_result"
    }
   ],
   "source": [
    "Counter(category for word in ['fettet'] for category in parse_token(word, trie))"
   ]
  },
  {
   "cell_type": "code",
   "execution_count": null,
   "metadata": {},
   "outputs": [],
   "source": []
  }
 ],
 "metadata": {
  "kernelspec": {
   "display_name": "sandbox",
   "language": "python",
   "name": "sandbox"
  },
  "language_info": {
   "codemirror_mode": {
    "name": "ipython",
    "version": 3
   },
   "file_extension": ".py",
   "mimetype": "text/x-python",
   "name": "python",
   "nbconvert_exporter": "python",
   "pygments_lexer": "ipython3",
   "version": "3.7.4"
  }
 },
 "nbformat": 4,
 "nbformat_minor": 2
}
