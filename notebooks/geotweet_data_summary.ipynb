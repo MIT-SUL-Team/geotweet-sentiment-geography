{
 "cells": [
  {
   "cell_type": "markdown",
   "metadata": {},
   "source": [
    "# Geotweet Data Summary"
   ]
  },
  {
   "cell_type": "markdown",
   "metadata": {},
   "source": [
    "Author: @SirenaYu\n",
    "\n",
    "This notebook explores the Geotweet data and generates summary dataframes which include the number of geotagged posts, posts with sentiment scores, and common posts by day. The summary dataframes are saved in a csv format, and each year has it own csv file.\n",
    "\n",
    "The notebook is divided into 3 sections:\n",
    "* twitter_geography Folder Analysis: This section explores the data in twitter_geography folder.\n",
    "* twitter_sentiment Folder Analysis: This section explores the data in twitter_sentiment folder.\n",
    "* Master Dataframe: This section tests a method to generate master dataframes with number of geotagged, sentiment, and common posts, and then uses ths method to generate dataframes from 2012 to 2021."
   ]
  },
  {
   "cell_type": "code",
   "execution_count": null,
   "metadata": {},
   "outputs": [],
   "source": [
    "import sys\n",
    "import os\n",
    "import numpy as np\n",
    "import pandas as pd\n",
    "import gzip\n",
    "from script import days_in_month, hours_in_day\n",
    "import time"
   ]
  },
  {
   "cell_type": "markdown",
   "metadata": {},
   "source": [
    "# twitter_geography Folder Analysis"
   ]
  },
  {
   "cell_type": "markdown",
   "metadata": {},
   "source": [
    "## twitter_geography/2015"
   ]
  },
  {
   "cell_type": "code",
   "execution_count": null,
   "metadata": {},
   "outputs": [],
   "source": [
    "geo_path = \"/srv/data/twitter_geography/2015/\"\n",
    "files = [f for f in os.listdir(geo_path) if os.path.isfile(os.path.join(geo_path, f))]\n",
    "print(\"There are a total of\", len(files), \"files in twitter_geography/2015.\")"
   ]
  },
  {
   "cell_type": "markdown",
   "metadata": {},
   "source": [
    "### Sample Dataframe "
   ]
  },
  {
   "cell_type": "code",
   "execution_count": null,
   "metadata": {},
   "outputs": [],
   "source": [
    "with gzip.open(''.join([geo_path, \"geography_2015_1_10_00.csv.gz\"])) as f:\n",
    "    geo_posts = pd.read_csv(f, sep=\"\\t\")\n",
    "        \n",
    "geo_posts.head()"
   ]
  },
  {
   "cell_type": "markdown",
   "metadata": {},
   "source": [
    "### Summary Dataframe "
   ]
  },
  {
   "cell_type": "code",
   "execution_count": null,
   "metadata": {},
   "outputs": [],
   "source": [
    "def num_posts_on_day(path, prefix, year, month, day):\n",
    "    num_posts = 0\n",
    "    day_path = ''.join([path, prefix, \"_\", str(year), \"_\", str(month), \"_\", str(day).zfill(2)])\n",
    "    for hour in hours_in_day():\n",
    "        try:\n",
    "            with gzip.open(''.join([day_path, \"_\", hour, \".csv.gz\"])) as f:\n",
    "                posts = pd.read_csv(f, sep=\"\\t\")\n",
    "                num_posts += len(posts)\n",
    "        except FileNotFoundError:\n",
    "            print(''.join([day_path, \"_\", hour, \".csv.gz\"]), \"does not exist.\")\n",
    "    return num_posts"
   ]
  },
  {
   "cell_type": "code",
   "execution_count": null,
   "metadata": {
    "scrolled": true
   },
   "outputs": [],
   "source": [
    "df = []\n",
    "for month in range(1, 13):\n",
    "    for day in range(1, days_in_month(month, 2015) + 1):\n",
    "        df.append([2015, month, day, num_posts_on_day(geo_path, \"geography\", 2015, month, day)])"
   ]
  },
  {
   "cell_type": "code",
   "execution_count": null,
   "metadata": {},
   "outputs": [],
   "source": [
    "summary_df = pd.DataFrame(data=df,    # values \n",
    "              columns=[\"year\", \"month\", \"day\", \"num_posts\"])\n",
    "summary_df"
   ]
  },
  {
   "cell_type": "code",
   "execution_count": null,
   "metadata": {},
   "outputs": [],
   "source": [
    "summary_df.to_csv(\"twitter_geography_2015_summary.csv\")"
   ]
  },
  {
   "cell_type": "markdown",
   "metadata": {},
   "source": [
    "# twitter_sentiment Folder Analysis"
   ]
  },
  {
   "cell_type": "markdown",
   "metadata": {},
   "source": [
    "## twitter_sentiment/2015 "
   ]
  },
  {
   "cell_type": "code",
   "execution_count": null,
   "metadata": {},
   "outputs": [],
   "source": [
    "sent_path = \"/srv/data/twitter_sentiment/2015/\"\n",
    "files = [f for f in os.listdir(sent_path) if os.path.isfile(os.path.join(sent_path, f))]\n",
    "print(\"There are a total of\", len(files), \"files in twitter_sentiment/2015.\")"
   ]
  },
  {
   "cell_type": "markdown",
   "metadata": {},
   "source": [
    "### Sample Dataframe "
   ]
  },
  {
   "cell_type": "code",
   "execution_count": null,
   "metadata": {},
   "outputs": [],
   "source": [
    "with gzip.open(''.join([sent_path, \"bert_sentiment_2015_1_10_00.csv.gz\"])) as f:\n",
    "    sent_posts = pd.read_csv(f, sep=\"\\t\")\n",
    "        \n",
    "sent_posts.head()"
   ]
  },
  {
   "cell_type": "markdown",
   "metadata": {},
   "source": [
    "### Summary Dataframe"
   ]
  },
  {
   "cell_type": "code",
   "execution_count": null,
   "metadata": {},
   "outputs": [],
   "source": [
    "df = []\n",
    "for month in range(1, 13):\n",
    "    for day in range(1, days_in_month(month, 2015) + 1):\n",
    "        df.append([2015, month, day, num_posts_on_day(path, \"bert_sentiment\", 2015, month, day)])"
   ]
  },
  {
   "cell_type": "code",
   "execution_count": null,
   "metadata": {},
   "outputs": [],
   "source": [
    "summary_df = pd.DataFrame(data=df,    # values \n",
    "             columns=[\"year\", \"month\", \"day\", \"num_posts\"]) "
   ]
  },
  {
   "cell_type": "code",
   "execution_count": null,
   "metadata": {
    "scrolled": true
   },
   "outputs": [],
   "source": [
    "summary_df"
   ]
  },
  {
   "cell_type": "code",
   "execution_count": null,
   "metadata": {},
   "outputs": [],
   "source": [
    "summary_df.to_csv(\"twitter_sentiment_2015_summary.csv\")"
   ]
  },
  {
   "cell_type": "markdown",
   "metadata": {},
   "source": [
    "# Master Dataframe "
   ]
  },
  {
   "cell_type": "code",
   "execution_count": null,
   "metadata": {},
   "outputs": [],
   "source": [
    "def num_posts_on_day_two_df(path_1, prefix_1, path_2, prefix_2, year, month, day):\n",
    "    num_posts_1 = 0\n",
    "    num_posts_2 = 0\n",
    "    num_posts_common = 0\n",
    "    day_path_1 = ''.join([path_1, prefix_1, \"_\", str(year), \"_\", str(month), \"_\", str(day).zfill(2)])\n",
    "    day_path_2 = ''.join([path_2, prefix_2, \"_\", str(year), \"_\", str(month), \"_\", str(day).zfill(2)])\n",
    "    for hour in hours_in_day():\n",
    "        start_time = time.time()\n",
    "        try:\n",
    "            with gzip.open(''.join([day_path_1, \"_\", hour, \".csv.gz\"])) as f:\n",
    "                posts_1 = pd.read_csv(f, sep=\"\\t\")\n",
    "                num_posts_1 += len(posts_1)\n",
    "        except FileNotFoundError:\n",
    "            print(''.join([day_path_1, \"_\", hour, \".csv.gz\"]), \"does not exist.\")\n",
    "            continue\n",
    "        except pd.errors.EmptyDataError:\n",
    "            print(''.join([day_path_1, \"_\", hour, \".csv.gz\"]), \"is empty.\")\n",
    "            continue\n",
    "        try:\n",
    "            with gzip.open(''.join([day_path_2, \"_\", hour, \".csv.gz\"])) as f:\n",
    "                posts_2 = pd.read_csv(f, sep=\"\\t\")\n",
    "                num_posts_2 += len(posts_2)\n",
    "        except FileNotFoundError:\n",
    "            print(''.join([day_path_2, \"_\", hour, \".csv.gz\"]), \"does not exist.\")\n",
    "            continue\n",
    "        except pd.errors.EmptyDataError:\n",
    "            print(''.join([day_path_2, \"_\", hour, \".csv.gz\"]), \"is empty.\")\n",
    "            continue\n",
    "        num_posts_common += len(pd.merge(posts_1, posts_2, on=\"message_id\", how=\"inner\"))\n",
    "    return num_posts_1, num_posts_2, num_posts_common"
   ]
  },
  {
   "cell_type": "markdown",
   "metadata": {},
   "source": [
    "### Sample Call"
   ]
  },
  {
   "cell_type": "code",
   "execution_count": null,
   "metadata": {},
   "outputs": [],
   "source": [
    "num_posts_on_day_two_df(geo_path, \"geography\", sent_path, \"bert_sentiment\", 2015, 12, 10)"
   ]
  },
  {
   "cell_type": "markdown",
   "metadata": {},
   "source": [
    "## 2015 "
   ]
  },
  {
   "cell_type": "code",
   "execution_count": null,
   "metadata": {},
   "outputs": [],
   "source": [
    "df = []\n",
    "for month in range(1, 13):\n",
    "    for day in range(1, days_in_month(month, 2015) + 1):\n",
    "        df.append([2015, month, day] + list(num_posts_on_day_two_df(geo_path, \"geography\", sent_path, \"bert_sentiment\", 2015, month, day)))"
   ]
  },
  {
   "cell_type": "code",
   "execution_count": null,
   "metadata": {},
   "outputs": [],
   "source": [
    "master_summary_df = pd.DataFrame(data=df,    # values \n",
    "             columns=[\"year\", \"month\", \"day\", \"num_geo_posts\", \"num_sent_posts\", \"num_common_posts\"]) \n",
    "master_summary_df"
   ]
  },
  {
   "cell_type": "code",
   "execution_count": null,
   "metadata": {},
   "outputs": [],
   "source": [
    "master_summary_df.to_csv(\"master_2015_summary.csv\")"
   ]
  },
  {
   "cell_type": "markdown",
   "metadata": {},
   "source": [
    "## 2018"
   ]
  },
  {
   "cell_type": "code",
   "execution_count": null,
   "metadata": {},
   "outputs": [],
   "source": [
    "geo_path_2018 = \"/srv/data/twitter_geography/2018/\"\n",
    "sent_path_2018 = \"/srv/data/twitter_sentiment/2018/\""
   ]
  },
  {
   "cell_type": "code",
   "execution_count": null,
   "metadata": {},
   "outputs": [],
   "source": [
    "num_posts_on_day_two_df(geo_path_2018, \"geography\", sent_path_2018, \"bert_sentiment\", 2018, 10, 13)"
   ]
  },
  {
   "cell_type": "code",
   "execution_count": null,
   "metadata": {},
   "outputs": [],
   "source": [
    "df = []\n",
    "for month in range(1, 13):\n",
    "    for day in range(1, days_in_month(month, 2018) + 1):\n",
    "        print(month, day)\n",
    "        df.append([2018, month, day] + list(num_posts_on_day_two_df(geo_path_2018, \"geography\", sent_path_2018, \"bert_sentiment\", 2018, month, day)))"
   ]
  },
  {
   "cell_type": "code",
   "execution_count": null,
   "metadata": {},
   "outputs": [],
   "source": [
    "master_summary_df_2018 = pd.DataFrame(data=df,    # values \n",
    "             columns=[\"year\", \"month\", \"day\", \"num_geo_posts\", \"num_sent_posts\", \"num_common_posts\"]) \n",
    "master_summary_df_2018"
   ]
  },
  {
   "cell_type": "code",
   "execution_count": null,
   "metadata": {},
   "outputs": [],
   "source": [
    "master_summary_df_2018.to_csv(\"master_2018_summary.csv\")"
   ]
  },
  {
   "cell_type": "markdown",
   "metadata": {},
   "source": [
    "## 1/10, 2012-2021 "
   ]
  },
  {
   "cell_type": "code",
   "execution_count": null,
   "metadata": {},
   "outputs": [],
   "source": [
    "df = []\n",
    "for year in range(2012, 2022):\n",
    "    geo_path = ''.join([\"/srv/data/twitter_geography/\", str(year), \"/\"])\n",
    "    sent_path = ''.join([\"/srv/data/twitter_sentiment/\", str(year), \"/\"])\n",
    "    df.append([year, 1, 10] + list(num_posts_on_day_two_df(geo_path, \"geography\", sent_path, \"bert_sentiment\", year, 1, 10)))"
   ]
  },
  {
   "cell_type": "code",
   "execution_count": null,
   "metadata": {},
   "outputs": [],
   "source": [
    "master_summary_df_1_10_2012_2021 = pd.DataFrame(\n",
    "    data=df,\n",
    "    columns=[\"year\", \"month\", \"day\", \"num_geo_posts\", \"num_sent_posts\", \"num_common_posts\"]\n",
    ")\n",
    "master_summary_df_1_10_2012_2021"
   ]
  },
  {
   "cell_type": "code",
   "execution_count": null,
   "metadata": {},
   "outputs": [],
   "source": [
    "master_summary_df_1_10_2012_2021.to_csv('../output/master_2012_2021_1_10_summary.csv')"
   ]
  },
  {
   "cell_type": "markdown",
   "metadata": {},
   "source": [
    "## Method to Run 2012 - 2020 "
   ]
  },
  {
   "cell_type": "code",
   "execution_count": null,
   "metadata": {},
   "outputs": [],
   "source": [
    "def generate_master_df_year(year):\n",
    "    geo_path = ''.join([\"/srv/data/twitter_geography/\", str(year), \"/\"])\n",
    "    sent_path = ''.join([\"/srv/data/twitter_sentiment/\", str(year), \"/\"])\n",
    "    df = []\n",
    "    for month in range(1, 13):\n",
    "        for day in range(1, days_in_month(month, year) + 1):\n",
    "            df.append([year, month, day] + list(num_posts_on_day_two_df(geo_path, \"geography\", sent_path, \"bert_sentiment\", year, month, day)))\n",
    "    master_summary_df = pd.DataFrame(data=df,    # values \n",
    "             columns=[\"year\", \"month\", \"day\", \"num_geo_posts\", \"num_sent_posts\", \"num_common_posts\"]) \n",
    "    master_summary_df.to_csv(''.join([\"../output/master_\", str(year), \"_summary.csv\"]))"
   ]
  },
  {
   "cell_type": "code",
   "execution_count": null,
   "metadata": {},
   "outputs": [],
   "source": [
    "for year in range(2012, 2021):\n",
    "    generate_master_df_year(year)"
   ]
  }
 ],
 "metadata": {
  "kernelspec": {
   "display_name": "Python 3",
   "language": "python",
   "name": "python3"
  },
  "language_info": {
   "codemirror_mode": {
    "name": "ipython",
    "version": 3
   },
   "file_extension": ".py",
   "mimetype": "text/x-python",
   "name": "python",
   "nbconvert_exporter": "python",
   "pygments_lexer": "ipython3",
   "version": "3.6.9"
  }
 },
 "nbformat": 4,
 "nbformat_minor": 2
}
