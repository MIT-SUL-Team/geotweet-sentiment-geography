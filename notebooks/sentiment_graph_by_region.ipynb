{
 "cells": [
  {
   "cell_type": "markdown",
   "metadata": {},
   "source": [
    "# Sentiment Graph by Region"
   ]
  },
  {
   "cell_type": "markdown",
   "metadata": {},
   "source": [
    "Author: @SirenaYu\n",
    "\n",
    "This notebook is divided into 2 sections:\n",
    "* Section 1 is data exploration, in which we identify the top 10 cities for each country covered by Twitter geography data.\n",
    "* Section 2 is graph generation, in which time series graphs from 2015 to 2021 is generated for each region."
   ]
  },
  {
   "cell_type": "code",
   "execution_count": 33,
   "metadata": {},
   "outputs": [],
   "source": [
    "import sys\n",
    "import os\n",
    "import numpy as np\n",
    "import pandas as pd\n",
    "import gzip\n",
    "from script import days_in_month\n",
    "import matplotlib.pyplot as plt\n",
    "from datetime import date, timedelta, datetime\n",
    "from pandas.plotting import register_matplotlib_converters\n",
    "register_matplotlib_converters()"
   ]
  },
  {
   "cell_type": "markdown",
   "metadata": {},
   "source": [
    "# Data Exploration"
   ]
  },
  {
   "cell_type": "markdown",
   "metadata": {},
   "source": [
    "## 2015/1/10, 0AM Data "
   ]
  },
  {
   "cell_type": "code",
   "execution_count": 2,
   "metadata": {},
   "outputs": [
    {
     "data": {
      "text/html": [
       "<div>\n",
       "<style scoped>\n",
       "    .dataframe tbody tr th:only-of-type {\n",
       "        vertical-align: middle;\n",
       "    }\n",
       "\n",
       "    .dataframe tbody tr th {\n",
       "        vertical-align: top;\n",
       "    }\n",
       "\n",
       "    .dataframe thead th {\n",
       "        text-align: right;\n",
       "    }\n",
       "</style>\n",
       "<table border=\"1\" class=\"dataframe\">\n",
       "  <thead>\n",
       "    <tr style=\"text-align: right;\">\n",
       "      <th></th>\n",
       "      <th>message_id</th>\n",
       "      <th>OBJECTID</th>\n",
       "      <th>ID_0</th>\n",
       "      <th>NAME_0</th>\n",
       "      <th>ISO</th>\n",
       "      <th>ID_1</th>\n",
       "      <th>NAME_1</th>\n",
       "      <th>ID_2</th>\n",
       "      <th>NAME_2</th>\n",
       "      <th>score</th>\n",
       "    </tr>\n",
       "  </thead>\n",
       "  <tbody>\n",
       "    <tr>\n",
       "      <th>0</th>\n",
       "      <td>553716693625614336</td>\n",
       "      <td>41431</td>\n",
       "      <td>244</td>\n",
       "      <td>United States</td>\n",
       "      <td>USA</td>\n",
       "      <td>5</td>\n",
       "      <td>California</td>\n",
       "      <td>202</td>\n",
       "      <td>Los Angeles</td>\n",
       "      <td>0.262848</td>\n",
       "    </tr>\n",
       "    <tr>\n",
       "      <th>1</th>\n",
       "      <td>553703608068632576</td>\n",
       "      <td>41050</td>\n",
       "      <td>242</td>\n",
       "      <td>United Kingdom</td>\n",
       "      <td>GBR</td>\n",
       "      <td>1</td>\n",
       "      <td>England</td>\n",
       "      <td>13</td>\n",
       "      <td>Cambridgeshire</td>\n",
       "      <td>0.072258</td>\n",
       "    </tr>\n",
       "    <tr>\n",
       "      <th>2</th>\n",
       "      <td>553708287170859008</td>\n",
       "      <td>43799</td>\n",
       "      <td>244</td>\n",
       "      <td>United States</td>\n",
       "      <td>USA</td>\n",
       "      <td>44</td>\n",
       "      <td>Texas</td>\n",
       "      <td>2570</td>\n",
       "      <td>Collin</td>\n",
       "      <td>0.047410</td>\n",
       "    </tr>\n",
       "    <tr>\n",
       "      <th>3</th>\n",
       "      <td>553717365678944256</td>\n",
       "      <td>43857</td>\n",
       "      <td>244</td>\n",
       "      <td>United States</td>\n",
       "      <td>USA</td>\n",
       "      <td>44</td>\n",
       "      <td>Texas</td>\n",
       "      <td>2628</td>\n",
       "      <td>Harris</td>\n",
       "      <td>0.963151</td>\n",
       "    </tr>\n",
       "    <tr>\n",
       "      <th>4</th>\n",
       "      <td>553708727346286592</td>\n",
       "      <td>18411</td>\n",
       "      <td>106</td>\n",
       "      <td>Indonesia</td>\n",
       "      <td>IDN</td>\n",
       "      <td>32</td>\n",
       "      <td>Sumatera Selatan</td>\n",
       "      <td>413</td>\n",
       "      <td>Prabumulih</td>\n",
       "      <td>0.785889</td>\n",
       "    </tr>\n",
       "  </tbody>\n",
       "</table>\n",
       "</div>"
      ],
      "text/plain": [
       "           message_id  OBJECTID  ID_0          NAME_0  ISO  ID_1  \\\n",
       "0  553716693625614336     41431   244   United States  USA     5   \n",
       "1  553703608068632576     41050   242  United Kingdom  GBR     1   \n",
       "2  553708287170859008     43799   244   United States  USA    44   \n",
       "3  553717365678944256     43857   244   United States  USA    44   \n",
       "4  553708727346286592     18411   106       Indonesia  IDN    32   \n",
       "\n",
       "             NAME_1  ID_2          NAME_2     score  \n",
       "0        California   202     Los Angeles  0.262848  \n",
       "1           England    13  Cambridgeshire  0.072258  \n",
       "2             Texas  2570          Collin  0.047410  \n",
       "3             Texas  2628          Harris  0.963151  \n",
       "4  Sumatera Selatan   413      Prabumulih  0.785889  "
      ]
     },
     "execution_count": 2,
     "metadata": {},
     "output_type": "execute_result"
    }
   ],
   "source": [
    "geo_path = \"/srv/data/twitter_geography/2015/\"\n",
    "sent_path = \"/srv/data/twitter_sentiment/2015/\"\n",
    "\n",
    "with gzip.open(''.join([geo_path, \"geography_2015_1_10_00.csv.gz\"])) as f:\n",
    "    geo_posts = pd.read_csv(f, sep=\"\\t\")\n",
    "\n",
    "with gzip.open(''.join([sent_path, \"bert_sentiment_2015_1_10_00.csv.gz\"])) as f:\n",
    "    sent_posts = pd.read_csv(f, sep=\"\\t\")\n",
    "    \n",
    "common_posts = pd.merge(geo_posts, sent_posts, on=\"message_id\", how=\"inner\")\n",
    "\n",
    "common_posts.head()"
   ]
  },
  {
   "cell_type": "code",
   "execution_count": 3,
   "metadata": {},
   "outputs": [
    {
     "data": {
      "text/plain": [
       "290045"
      ]
     },
     "execution_count": 3,
     "metadata": {},
     "output_type": "execute_result"
    }
   ],
   "source": [
    "len(common_posts)"
   ]
  },
  {
   "cell_type": "code",
   "execution_count": 4,
   "metadata": {},
   "outputs": [
    {
     "data": {
      "text/plain": [
       "United States     89816\n",
       "Brazil            60414\n",
       "Argentina         18907\n",
       "Indonesia         14685\n",
       "United Kingdom    13951\n",
       "Turkey            11565\n",
       "Japan              9523\n",
       "Spain              7531\n",
       "France             6158\n",
       "Philippines        5620\n",
       "Name: NAME_0, dtype: int64"
      ]
     },
     "execution_count": 4,
     "metadata": {},
     "output_type": "execute_result"
    }
   ],
   "source": [
    "common_posts[\"NAME_0\"].value_counts().nlargest(10)"
   ]
  },
  {
   "cell_type": "code",
   "execution_count": 8,
   "metadata": {},
   "outputs": [
    {
     "data": {
      "text/plain": [
       "['Los Angeles', 'Harris', 'Orange', 'Cook', 'New York']"
      ]
     },
     "execution_count": 8,
     "metadata": {},
     "output_type": "execute_result"
    }
   ],
   "source": [
    "top_5_us_cities = common_posts[common_posts[\"NAME_0\"] == \"United States\"][\"NAME_2\"].value_counts().nlargest(5).index.tolist()\n",
    "top_5_us_cities"
   ]
  },
  {
   "cell_type": "code",
   "execution_count": 7,
   "metadata": {},
   "outputs": [
    {
     "data": {
      "text/plain": [
       "{'Los Angeles': 0.5631401661171697,\n",
       " 'Harris': 0.5149050955967555,\n",
       " 'Orange': 0.5792277571847507,\n",
       " 'Cook': 0.5525028712522045,\n",
       " 'New York': 0.6522866430338005}"
      ]
     },
     "execution_count": 7,
     "metadata": {},
     "output_type": "execute_result"
    }
   ],
   "source": [
    "city_to_sent_score = dict()\n",
    "\n",
    "for city in top_5_us_cities:\n",
    "    avg_sent_score = common_posts[common_posts[\"NAME_2\"] == city][\"score\"].mean()\n",
    "    city_to_sent_score[city] = avg_sent_score\n",
    "        \n",
    "city_to_sent_score"
   ]
  },
  {
   "cell_type": "markdown",
   "metadata": {},
   "source": [
    "## 2015/1/10, All Day Data"
   ]
  },
  {
   "cell_type": "markdown",
   "metadata": {},
   "source": [
    "To calculate the daily average of top 5 US cities, we do the following:\n",
    "\n",
    "* For each hour of the day, keep track of the top 10 US cities and their average sentiment scores / number of posts.\n",
    "* Sum up number of posts and calculate top 5 US cities of that day.\n",
    "* Using average sentiment scores / number of posts from each hour, calculate a weighted average, resulting in an accurate daily average."
   ]
  },
  {
   "cell_type": "code",
   "execution_count": 20,
   "metadata": {},
   "outputs": [],
   "source": [
    "geo_path = \"/srv/data/twitter_geography/2015/\"\n",
    "sent_path = \"/srv/data/twitter_sentiment/2015/\"\n",
    "\n",
    "hour_2_city_2_avg_n_numpost = dict()\n",
    "city_2_numpost = dict()\n",
    "\n",
    "for hour in range(0, 24):\n",
    "    with gzip.open(''.join([geo_path, \"geography_2015_1_10_\", str(hour).zfill(2), \".csv.gz\"])) as f:\n",
    "        geo_posts = pd.read_csv(f, sep=\"\\t\")\n",
    "    with gzip.open(''.join([sent_path, \"bert_sentiment_2015_1_10_\", str(hour).zfill(2), \".csv.gz\"])) as f:\n",
    "        sent_posts = pd.read_csv(f, sep=\"\\t\")\n",
    "    common_posts = pd.merge(geo_posts, sent_posts, on=\"message_id\", how=\"inner\")\n",
    "    top_10_us_cities = common_posts[common_posts[\"NAME_0\"] == \"United States\"][\"NAME_2\"].value_counts().nlargest(10).index.tolist()\n",
    "    city_2_avg_n_numpost = dict()\n",
    "    for city in top_10_us_cities:\n",
    "        avg_sent_score = common_posts[common_posts[\"NAME_2\"] == city][\"score\"].mean()\n",
    "        numpost = len(common_posts[common_posts[\"NAME_2\"] == city])\n",
    "        city_2_avg_n_numpost[city] = (avg_sent_score, numpost)\n",
    "        if city not in city_2_numpost.keys():\n",
    "            city_2_numpost[city] = numpost\n",
    "        else:\n",
    "            city_2_numpost[city] += numpost\n",
    "    hour_2_city_2_avg_n_numpost[hour] = city_2_avg_n_numpost\n",
    "    "
   ]
  },
  {
   "cell_type": "code",
   "execution_count": 21,
   "metadata": {},
   "outputs": [
    {
     "data": {
      "text/plain": [
       "{'Los Angeles': 82452,\n",
       " 'Harris': 35705,\n",
       " 'Orange': 35546,\n",
       " 'Cook': 40585,\n",
       " 'New York': 12022,\n",
       " 'Maricopa': 20316,\n",
       " 'Dallas': 21853,\n",
       " 'Clark': 17801,\n",
       " 'Miami-Dade': 12089,\n",
       " 'Jefferson': 7515,\n",
       " 'Wayne': 7646,\n",
       " 'Philadelphia': 4733,\n",
       " 'Suffolk': 8302,\n",
       " 'Tarrant': 9180,\n",
       " 'Montgomery': 5762,\n",
       " 'Riverside': 4704,\n",
       " 'San Diego': 2541,\n",
       " 'San Bernardino': 4126,\n",
       " 'Honolulu': 601,\n",
       " 'Fresno': 276,\n",
       " 'Baltimore': 2597}"
      ]
     },
     "execution_count": 21,
     "metadata": {},
     "output_type": "execute_result"
    }
   ],
   "source": [
    "city_2_numpost"
   ]
  },
  {
   "cell_type": "code",
   "execution_count": 22,
   "metadata": {},
   "outputs": [
    {
     "data": {
      "text/plain": [
       "['Los Angeles', 'Cook', 'Harris', 'Orange', 'Dallas']"
      ]
     },
     "execution_count": 22,
     "metadata": {},
     "output_type": "execute_result"
    }
   ],
   "source": [
    "top_5_us_cities = [k for k, v in sorted(city_2_numpost.items(), key=lambda item: item[1], reverse=True)][:5]\n",
    "top_5_us_cities"
   ]
  },
  {
   "cell_type": "code",
   "execution_count": 23,
   "metadata": {},
   "outputs": [
    {
     "data": {
      "text/plain": [
       "{'Los Angeles': 0.5568272338208899,\n",
       " 'Cook': 0.5553182953307871,\n",
       " 'Harris': 0.5260893801428372,\n",
       " 'Orange': 0.578291788640072,\n",
       " 'Dallas': 0.5386410509312224}"
      ]
     },
     "execution_count": 23,
     "metadata": {},
     "output_type": "execute_result"
    }
   ],
   "source": [
    "city_2_avg = dict()\n",
    "\n",
    "for city in top_5_us_cities:\n",
    "    for hour in range(0, 24):\n",
    "        try: \n",
    "            hour_avg, hour_numpost = hour_2_city_2_avg_n_numpost[hour][city]\n",
    "            weight_avg = hour_avg * hour_numpost / city_2_numpost[city]\n",
    "            if city not in city_2_avg.keys():\n",
    "                city_2_avg[city] = weight_avg\n",
    "            else:\n",
    "                city_2_avg[city] += weight_avg\n",
    "        except KeyError:\n",
    "            continue\n",
    "\n",
    "city_2_avg"
   ]
  },
  {
   "cell_type": "code",
   "execution_count": 42,
   "metadata": {},
   "outputs": [],
   "source": [
    "def get_daily_sent_avg_n_numpost_top_m_cities(country, m, year, month, day):\n",
    "    \"\"\"\n",
    "    @param country: str\n",
    "    @param m: int, top m cities that we want to look at\n",
    "    @param year: int\n",
    "    @param month: int\n",
    "    @param day: int\n",
    "    \n",
    "    return: dict, maps city to (daily_sent_avg, daily_numpost)\n",
    "    \"\"\"\n",
    "    method_start_time = datetime.now()\n",
    "    geo_path = \"\".join([\"/srv/data/twitter_geography/\", str(year), \"/\"])\n",
    "    sent_path = \"\".join([\"/srv/data/twitter_sentiment/\", str(year), \"/\"])\n",
    "    date = \"\".join([str(year), \"_\", str(month), \"_\", str(day).zfill(2)])\n",
    "\n",
    "    hour_2_city_2_avg_n_numpost = dict()\n",
    "    city_2_numpost = dict()\n",
    "\n",
    "    for hour in range(0, 24):\n",
    "        pre_open_time = datetime.now()\n",
    "        try:\n",
    "            with gzip.open(''.join([geo_path, \"geography_\", date, \"_\", str(hour).zfill(2), \".csv.gz\"])) as f:\n",
    "                geo_posts = pd.read_csv(f, sep=\"\\t\")\n",
    "        except FileNotFoundError:\n",
    "            print(''.join([geo_path, \"geography_\", date, \"_\", str(hour).zfill(2), \".csv.gz\"]), \"does not exist.\")\n",
    "            continue\n",
    "        except pd.errors.EmptyDataError:\n",
    "            print(''.join([geo_path, \"geography_\", date, \"_\", str(hour).zfill(2), \".csv.gz\"]), \"is empty.\")\n",
    "            continue\n",
    "        try:\n",
    "            with gzip.open(''.join([sent_path, \"bert_sentiment_\", date, \"_\", str(hour).zfill(2), \".csv.gz\"])) as f:\n",
    "                sent_posts = pd.read_csv(f, sep=\"\\t\")\n",
    "        except FileNotFoundError:\n",
    "            print(''.join([sent_path, \"bert_sentiment_\", date, \"_\", str(hour).zfill(2), \".csv.gz\"]), \"does not exist.\")\n",
    "            continue\n",
    "        except pd.errors.EmptyDataError:\n",
    "            print(''.join([sent_path, \"bert_sentiment_\", date, \"_\", str(hour).zfill(2), \".csv.gz\"]), \"is empty.\")\n",
    "            continue\n",
    "        post_open_time = datetime.now()\n",
    "        print(\"Opening files for hour\", hour, \"took\", post_open_time - pre_open_time, \"seconds.\")\n",
    "        common_posts = pd.merge(geo_posts, sent_posts, on=\"message_id\", how=\"inner\")\n",
    "        post_merge_time = datetime.now()\n",
    "        print(\"Merging df for hour\", hour, \"took\", post_merge_time - post_open_time, \"seconds.\")\n",
    "        top_2m_cities = common_posts[common_posts[\"NAME_0\"] == country][\"NAME_2\"].value_counts().nlargest(2*m).index.tolist()\n",
    "        city_2_avg_n_numpost = dict()\n",
    "        pre_inner_for_loop_time = datetime.now()\n",
    "        for city in top_2m_cities:\n",
    "            avg_sent_score = common_posts[common_posts[\"NAME_2\"] == city][\"score\"].mean()\n",
    "            numpost = len(common_posts[common_posts[\"NAME_2\"] == city])\n",
    "            city_2_avg_n_numpost[city] = (avg_sent_score, numpost)\n",
    "            if city not in city_2_numpost.keys():\n",
    "                city_2_numpost[city] = numpost\n",
    "            else:\n",
    "                city_2_numpost[city] += numpost\n",
    "        post_inner_for_loop_time = datetime.now()\n",
    "        print(\"Inner for loop for hour\", hour, \"took\", post_inner_for_loop_time - pre_inner_for_loop_time, \"seconds.\")\n",
    "        hour_2_city_2_avg_n_numpost[hour] = city_2_avg_n_numpost\n",
    "        end_for_loop_time = datetime.now()\n",
    "        print(\"Rest of the for loop for hour\", hour, \"took\", end_for_loop_time - post_merge_time, \"seconds.\")\n",
    "    \n",
    "    post_for_loop_time = datetime.now()\n",
    "    \n",
    "    top_m_cities = [k for k, v in sorted(city_2_numpost.items(), key=lambda item: item[1], reverse=True)][:m]\n",
    "    \n",
    "    city_2_avg_n_numpost = dict()\n",
    "\n",
    "    for city in top_m_cities:\n",
    "        for hour in range(0, 24):\n",
    "            try: \n",
    "                hour_avg, hour_numpost = hour_2_city_2_avg_n_numpost[hour][city]\n",
    "                weight_avg = hour_avg * hour_numpost / city_2_numpost[city]\n",
    "                if city not in city_2_avg_n_numpost.keys():\n",
    "                    city_2_avg_n_numpost[city] = (weight_avg, city_2_numpost[city])\n",
    "                else:\n",
    "                    city_2_avg_n_numpost[city] = (city_2_avg_n_numpost[city][0] + weight_avg, city_2_numpost[city])\n",
    "            except KeyError:\n",
    "                continue\n",
    "    method_end_time = datetime.now()\n",
    "    print(\"Post for loop took\", method_end_time - post_for_loop_time, \"seconds.\")\n",
    "    print(\"Running this method took\", method_end_time - method_start_time, \"seconds.\")\n",
    "    return city_2_avg_n_numpost\n"
   ]
  },
  {
   "cell_type": "code",
   "execution_count": 3,
   "metadata": {
    "scrolled": true
   },
   "outputs": [
    {
     "data": {
      "text/plain": [
       "{'Los Angeles': (0.5568272338208899, 82452),\n",
       " 'Cook': (0.5553182953307871, 40585),\n",
       " 'Harris': (0.5260893801428372, 35705),\n",
       " 'Orange': (0.578291788640072, 35546),\n",
       " 'Dallas': (0.5386410509312224, 21853)}"
      ]
     },
     "execution_count": 3,
     "metadata": {},
     "output_type": "execute_result"
    }
   ],
   "source": [
    "get_daily_sent_avg_n_numpost_top_m_cities(\"United States\", 5, 2015, 1, 10)"
   ]
  },
  {
   "cell_type": "markdown",
   "metadata": {},
   "source": [
    "passed test case 1!"
   ]
  },
  {
   "cell_type": "code",
   "execution_count": 38,
   "metadata": {},
   "outputs": [
    {
     "data": {
      "text/plain": [
       "{'Los Angeles': (0.6841228175470008, 5585),\n",
       " 'New York': (0.7037084736401673, 3585),\n",
       " 'Orange': (0.6731758839966132, 3543),\n",
       " 'Cook': (0.659121215667768, 2119),\n",
       " 'Harris': (0.6243688203655353, 1915),\n",
       " 'Clark': (0.723765455479452, 1752),\n",
       " 'Miami-Dade': (0.7235621100591716, 1690),\n",
       " 'Maricopa': (0.6771742206359507, 1541),\n",
       " 'San Diego': (0.6977563762662807, 1382),\n",
       " 'Fulton': (0.6853723145896657, 1316),\n",
       " 'San Francisco': (0.6714272343260189, 1276),\n",
       " 'Suffolk': (0.6301919197431782, 1246),\n",
       " 'Dallas': (0.6560250725738397, 1185),\n",
       " 'King': (0.6483435456081081, 1184),\n",
       " 'District of Columbia': (0.6950749192006952, 1151)}"
      ]
     },
     "execution_count": 38,
     "metadata": {},
     "output_type": "execute_result"
    }
   ],
   "source": [
    "get_daily_sent_avg_n_numpost_top_m_cities(\"United States\", 15, 2016, 1, 10)"
   ]
  },
  {
   "cell_type": "code",
   "execution_count": 39,
   "metadata": {},
   "outputs": [
    {
     "data": {
      "text/plain": [
       "{'Suffolk': (0.6293938550834597, 1318),\n",
       " 'Westminster': (0.6991305543951262, 1149),\n",
       " 'Camden': (0.6968174216380182, 989),\n",
       " 'Rhondda, Cynon, Taff': (0.5564808340292274, 958),\n",
       " 'Essex': (0.6585460639534884, 860),\n",
       " 'Manchester': (0.6593065798722044, 626),\n",
       " 'Oxfordshire': (0.6366635251299828, 577),\n",
       " 'Kent': (0.6367703674588665, 547),\n",
       " 'West Yorkshire': (0.6028934071588368, 447),\n",
       " 'West Midlands': (0.6464779132420091, 438),\n",
       " 'Lancashire': (0.7029685064267354, 389),\n",
       " 'Norfolk': (0.669765938888889, 360),\n",
       " 'Surrey': (0.6413519022556391, 266),\n",
       " 'Hertfordshire': (0.6208909320000001, 250),\n",
       " 'South Yorkshire': (0.6132550517241379, 232)}"
      ]
     },
     "execution_count": 39,
     "metadata": {},
     "output_type": "execute_result"
    }
   ],
   "source": [
    "get_daily_sent_avg_n_numpost_top_m_cities(\"United Kingdom\", 15, 2016, 1, 10)"
   ]
  },
  {
   "cell_type": "code",
   "execution_count": 43,
   "metadata": {},
   "outputs": [
    {
     "name": "stdout",
     "output_type": "stream",
     "text": [
      "Opening files for hour 0 took 0:00:00.314475 seconds.\n",
      "Merging df for hour 0 took 0:00:00.100665 seconds.\n",
      "Inner for loop for hour 0 took 0:00:00.685885 seconds.\n",
      "Rest of the for loop for hour 0 took 0:00:00.726262 seconds.\n",
      "Opening files for hour 1 took 0:00:00.348177 seconds.\n",
      "Merging df for hour 1 took 0:00:00.112007 seconds.\n",
      "Inner for loop for hour 1 took 0:00:00.699480 seconds.\n",
      "Rest of the for loop for hour 1 took 0:00:00.741584 seconds.\n",
      "Opening files for hour 2 took 0:00:00.319954 seconds.\n",
      "Merging df for hour 2 took 0:00:00.121416 seconds.\n",
      "Inner for loop for hour 2 took 0:00:00.739882 seconds.\n",
      "Rest of the for loop for hour 2 took 0:00:00.784948 seconds.\n",
      "Opening files for hour 3 took 0:00:00.327058 seconds.\n",
      "Merging df for hour 3 took 0:00:00.098120 seconds.\n",
      "Inner for loop for hour 3 took 0:00:00.651735 seconds.\n",
      "Rest of the for loop for hour 3 took 0:00:00.691421 seconds.\n",
      "Opening files for hour 4 took 0:00:00.312294 seconds.\n",
      "Merging df for hour 4 took 0:00:00.095562 seconds.\n",
      "Inner for loop for hour 4 took 0:00:00.606689 seconds.\n",
      "Rest of the for loop for hour 4 took 0:00:00.645924 seconds.\n",
      "Opening files for hour 5 took 0:00:00.254667 seconds.\n",
      "Merging df for hour 5 took 0:00:00.081990 seconds.\n",
      "Inner for loop for hour 5 took 0:00:00.507986 seconds.\n",
      "Rest of the for loop for hour 5 took 0:00:00.542133 seconds.\n",
      "Opening files for hour 6 took 0:00:00.233043 seconds.\n",
      "Merging df for hour 6 took 0:00:00.078394 seconds.\n",
      "Inner for loop for hour 6 took 0:00:00.482376 seconds.\n",
      "Rest of the for loop for hour 6 took 0:00:00.511510 seconds.\n",
      "Opening files for hour 7 took 0:00:00.226181 seconds.\n",
      "Merging df for hour 7 took 0:00:00.077531 seconds.\n",
      "Inner for loop for hour 7 took 0:00:00.497695 seconds.\n",
      "Rest of the for loop for hour 7 took 0:00:00.526442 seconds.\n",
      "Opening files for hour 8 took 0:00:00.217920 seconds.\n",
      "Merging df for hour 8 took 0:00:00.072905 seconds.\n",
      "Inner for loop for hour 8 took 0:00:00.423942 seconds.\n",
      "Rest of the for loop for hour 8 took 0:00:00.448127 seconds.\n",
      "Opening files for hour 9 took 0:00:00.225409 seconds.\n",
      "Merging df for hour 9 took 0:00:00.076960 seconds.\n",
      "Inner for loop for hour 9 took 0:00:00.444199 seconds.\n",
      "Rest of the for loop for hour 9 took 0:00:00.467093 seconds.\n",
      "Opening files for hour 10 took 0:00:00.237141 seconds.\n",
      "Merging df for hour 10 took 0:00:00.080966 seconds.\n",
      "Inner for loop for hour 10 took 0:00:00.481533 seconds.\n",
      "Rest of the for loop for hour 10 took 0:00:00.505251 seconds.\n",
      "Opening files for hour 11 took 0:00:00.258455 seconds.\n",
      "Merging df for hour 11 took 0:00:00.082177 seconds.\n",
      "Inner for loop for hour 11 took 0:00:00.508506 seconds.\n",
      "Rest of the for loop for hour 11 took 0:00:00.535517 seconds.\n",
      "Opening files for hour 12 took 0:00:00.306396 seconds.\n",
      "Merging df for hour 12 took 0:00:00.102548 seconds.\n",
      "Inner for loop for hour 12 took 0:00:00.608802 seconds.\n",
      "Rest of the for loop for hour 12 took 0:00:00.643322 seconds.\n",
      "Opening files for hour 13 took 0:00:00.328467 seconds.\n",
      "Merging df for hour 13 took 0:00:00.107740 seconds.\n",
      "Inner for loop for hour 13 took 0:00:00.707973 seconds.\n",
      "Rest of the for loop for hour 13 took 0:00:00.743438 seconds.\n",
      "Opening files for hour 14 took 0:00:00.324943 seconds.\n",
      "Merging df for hour 14 took 0:00:00.108365 seconds.\n",
      "Inner for loop for hour 14 took 0:00:00.623951 seconds.\n",
      "Rest of the for loop for hour 14 took 0:00:00.660044 seconds.\n",
      "Opening files for hour 15 took 0:00:00.350616 seconds.\n",
      "Merging df for hour 15 took 0:00:00.108908 seconds.\n",
      "Inner for loop for hour 15 took 0:00:00.713618 seconds.\n",
      "Rest of the for loop for hour 15 took 0:00:00.752482 seconds.\n",
      "Opening files for hour 16 took 0:00:00.346226 seconds.\n",
      "Merging df for hour 16 took 0:00:00.121382 seconds.\n",
      "Inner for loop for hour 16 took 0:00:00.733237 seconds.\n",
      "Rest of the for loop for hour 16 took 0:00:00.776143 seconds.\n",
      "Opening files for hour 17 took 0:00:00.349525 seconds.\n",
      "Merging df for hour 17 took 0:00:00.116429 seconds.\n",
      "Inner for loop for hour 17 took 0:00:00.778410 seconds.\n",
      "Rest of the for loop for hour 17 took 0:00:00.819744 seconds.\n",
      "Opening files for hour 18 took 0:00:00.353369 seconds.\n",
      "Merging df for hour 18 took 0:00:00.128929 seconds.\n",
      "Inner for loop for hour 18 took 0:00:00.740793 seconds.\n",
      "Rest of the for loop for hour 18 took 0:00:00.787502 seconds.\n",
      "Opening files for hour 19 took 0:00:00.367562 seconds.\n",
      "Merging df for hour 19 took 0:00:00.113143 seconds.\n",
      "Inner for loop for hour 19 took 0:00:00.733399 seconds.\n",
      "Rest of the for loop for hour 19 took 0:00:00.779194 seconds.\n",
      "Opening files for hour 20 took 0:00:00.377019 seconds.\n",
      "Merging df for hour 20 took 0:00:00.127780 seconds.\n",
      "Inner for loop for hour 20 took 0:00:00.739914 seconds.\n",
      "Rest of the for loop for hour 20 took 0:00:00.786784 seconds.\n",
      "Opening files for hour 21 took 0:00:00.349599 seconds.\n",
      "Merging df for hour 21 took 0:00:00.119253 seconds.\n",
      "Inner for loop for hour 21 took 0:00:00.747330 seconds.\n",
      "Rest of the for loop for hour 21 took 0:00:00.790474 seconds.\n",
      "Opening files for hour 22 took 0:00:00.377286 seconds.\n",
      "Merging df for hour 22 took 0:00:00.122586 seconds.\n",
      "Inner for loop for hour 22 took 0:00:00.701793 seconds.\n",
      "Rest of the for loop for hour 22 took 0:00:00.746263 seconds.\n",
      "Opening files for hour 23 took 0:00:00.321727 seconds.\n",
      "Merging df for hour 23 took 0:00:00.121825 seconds.\n",
      "Inner for loop for hour 23 took 0:00:00.673352 seconds.\n",
      "Rest of the for loop for hour 23 took 0:00:00.716574 seconds.\n",
      "Post for loop took 0:00:00.000779 seconds.\n",
      "Running this method took 0:00:26.047207 seconds.\n"
     ]
    },
    {
     "data": {
      "text/plain": [
       "{'Los Angeles': (0.5641511485630867, 58911),\n",
       " 'Harris': (0.5334213459393236, 31017),\n",
       " 'Cook': (0.5616819450904921, 24422),\n",
       " 'New York': (0.5972507357198829, 24247),\n",
       " 'Orange': (0.5697023738483521, 20297),\n",
       " 'Clark': (0.597619061765962, 18732),\n",
       " 'Dallas': (0.5471884224573086, 18622),\n",
       " 'Wilkinson': (0.536929470038391, 17973),\n",
       " 'Concho': (0.5411433113783202, 16716),\n",
       " 'Maricopa': (0.5617076699065655, 15947),\n",
       " 'Kings': (0.5666947188622984, 13079),\n",
       " 'Jefferson': (0.5463820458511819, 12606),\n",
       " 'Madison': (0.5473616211219551, 12603),\n",
       " 'Miami-Dade': (0.573368549313963, 12390),\n",
       " 'Philadelphia': (0.5448749896638654, 11900)}"
      ]
     },
     "execution_count": 43,
     "metadata": {},
     "output_type": "execute_result"
    }
   ],
   "source": [
    "get_daily_sent_avg_n_numpost_top_m_cities(\"United States\", 15, 2019, 1, 10)"
   ]
  },
  {
   "cell_type": "markdown",
   "metadata": {},
   "source": [
    "# Graph Generation"
   ]
  },
  {
   "cell_type": "markdown",
   "metadata": {},
   "source": [
    "## 2019/1, Daily Average, United States"
   ]
  },
  {
   "cell_type": "code",
   "execution_count": 4,
   "metadata": {},
   "outputs": [],
   "source": [
    "date_2_city_2_avg_n_numpost = dict()\n",
    "city_2_numpost = dict()\n",
    "\n",
    "for year in range(2019, 2020):\n",
    "    for month in range(1, 2):\n",
    "        for day in range(1, days_in_month(month, year)+1):\n",
    "            date = \"\".join([str(year), \"_\", str(month), \"_\", str(day).zfill(2)])\n",
    "            city_2_avg_n_numpost = get_daily_sent_avg_n_numpost_top_m_cities(\"United States\", 15, year, month, day)\n",
    "            date_2_city_2_avg_n_numpost[date] = city_2_avg_n_numpost\n",
    "            for city in city_2_avg_n_numpost.keys():\n",
    "                if city not in city_2_numpost:\n",
    "                    city_2_numpost[city] = city_2_avg_n_numpost[city][1]\n",
    "                else:\n",
    "                    city_2_numpost[city] += city_2_avg_n_numpost[city][1]"
   ]
  },
  {
   "cell_type": "code",
   "execution_count": 5,
   "metadata": {},
   "outputs": [
    {
     "data": {
      "text/plain": [
       "{'2019_1_01': {'Los Angeles': (0.619716212904003, 58106),\n",
       "  'Harris': (0.580794528902897, 29824),\n",
       "  'Cook': (0.6045603878988635, 23849),\n",
       "  'Orange': (0.6237153161744785, 22146),\n",
       "  'Wilkinson': (0.5760197244318183, 21120),\n",
       "  'New York': (0.6587584617547537, 20983),\n",
       "  'Dallas': (0.5904226014286481, 18619),\n",
       "  'Concho': (0.5917140799266829, 18004),\n",
       "  'Clark': (0.6282270299014806, 17357),\n",
       "  'Maricopa': (0.6079224309228444, 16525),\n",
       "  'Kings': (0.6201026186307367, 14621),\n",
       "  'Jefferson': (0.5804125226947308, 13968),\n",
       "  'Miami-Dade': (0.6353489053173759, 13202),\n",
       "  'Madison': (0.5856070319282792, 12716),\n",
       "  'Fulton': (0.6057604035115849, 12473)},\n",
       " '2019_1_02': {'Los Angeles': (0.5743537935188108, 53879),\n",
       "  'Harris': (0.5380740689059027, 28343),\n",
       "  'Wilkinson': (0.5337103130917541, 23236),\n",
       "  'Cook': (0.5589145823143717, 22572),\n",
       "  'New York': (0.6055198773243062, 20974),\n",
       "  'Dallas': (0.5433464200215284, 18580),\n",
       "  'Orange': (0.5810992365509762, 18440),\n",
       "  'Concho': (0.5557781465243072, 17608),\n",
       "  'Clark': (0.5829347961740985, 15003),\n",
       "  'Maricopa': (0.5641772527313957, 14553),\n",
       "  'Jefferson': (0.5429311860184206, 13246),\n",
       "  'Kings': (0.5826141095014913, 11735),\n",
       "  'Miami-Dade': (0.5804473329049944, 11673),\n",
       "  'Madison': (0.5471337502582645, 11616),\n",
       "  'Fulton': (0.564196390557195, 11522)},\n",
       " '2019_1_03': {'Los Angeles': (0.5645687738867716, 58254),\n",
       "  'Harris': (0.5391748865257728, 29857),\n",
       "  'Cook': (0.558702289740699, 23949),\n",
       "  'New York': (0.5950223595905457, 22762),\n",
       "  'Wilkinson': (0.5336843680478167, 19742),\n",
       "  'Orange': (0.571808861288331, 19436),\n",
       "  'Dallas': (0.5417892293529443, 18901),\n",
       "  'Concho': (0.54749216082085, 16422),\n",
       "  'Clark': (0.5723721923796791, 14960),\n",
       "  'Maricopa': (0.5575285018363245, 14431),\n",
       "  'Kings': (0.5737320201063996, 12782),\n",
       "  'Jefferson': (0.5493519994326012, 12337),\n",
       "  'Madison': (0.5523916537414405, 12121),\n",
       "  'Miami-Dade': (0.575408295467873, 11937),\n",
       "  'Richmond': (0.5399546314915195, 11438)},\n",
       " '2019_1_04': {'Los Angeles': (0.5644417790735342, 58653),\n",
       "  'Harris': (0.534086440528122, 34386),\n",
       "  'Cook': (0.5519086718338476, 26578),\n",
       "  'New York': (0.5949510252118826, 23362),\n",
       "  'Wilkinson': (0.5251556963341236, 21932),\n",
       "  'Orange': (0.5708425383667636, 20291),\n",
       "  'Dallas': (0.5386078261388502, 20108),\n",
       "  'Concho': (0.5416358574051046, 16887),\n",
       "  'Maricopa': (0.558503043935484, 15500),\n",
       "  'Clark': (0.5609909253312768, 14263),\n",
       "  'Jefferson': (0.5447651646081771, 14088),\n",
       "  'Kings': (0.5632334543864763, 13724),\n",
       "  'Bexar': (0.5410375753117013, 12913),\n",
       "  'Philadelphia': (0.5405790002336449, 12840),\n",
       "  'Madison': (0.5412655853388221, 12632)},\n",
       " '2019_1_05': {'Los Angeles': (0.5621807656323502, 57397),\n",
       "  'Harris': (0.5333471254888135, 31198),\n",
       "  'Cook': (0.5557671253305351, 23825),\n",
       "  'Wilkinson': (0.5376832659670167, 20010),\n",
       "  'Orange': (0.5740141971183015, 19780),\n",
       "  'New York': (0.5945335732388539, 19334),\n",
       "  'Dallas': (0.5450048379446641, 18722),\n",
       "  'Concho': (0.5395141868209579, 15555),\n",
       "  'Clark': (0.5754489250033125, 15094),\n",
       "  'Maricopa': (0.5636343972639666, 14839),\n",
       "  'Kings': (0.5651996588837004, 13491),\n",
       "  'Jefferson': (0.5526939698640776, 12875),\n",
       "  'Madison': (0.547216283336067, 12194),\n",
       "  'Richmond': (0.5543042813938199, 12168),\n",
       "  'Bexar': (0.5535384777485802, 11797)},\n",
       " '2019_1_06': {'Los Angeles': (0.5561398547168225, 59415),\n",
       "  'Harris': (0.5294789953575039, 31664),\n",
       "  'Cook': (0.5520077929426925, 26384),\n",
       "  'Dallas': (0.5428856099442778, 20997),\n",
       "  'Wilkinson': (0.5279271190002981, 20126),\n",
       "  'Orange': (0.5709625703570358, 19998),\n",
       "  'New York': (0.5982584541008277, 18606),\n",
       "  'Concho': (0.5332109004722957, 17362),\n",
       "  'Clark': (0.5664112481243625, 16661),\n",
       "  'Maricopa': (0.5570876981926539, 15437),\n",
       "  'Jefferson': (0.5443700129008204, 13410),\n",
       "  'Kings': (0.5591358641219093, 13387),\n",
       "  'Tarrant': (0.5439006169354839, 13144),\n",
       "  'Bexar': (0.5439586801256874, 12730),\n",
       "  'San Diego': (0.5657798860779891, 12412)},\n",
       " '2019_1_07': {'Los Angeles': (0.5720757359565581, 59850),\n",
       "  'Cook': (0.5408714970279541, 29441),\n",
       "  'Harris': (0.5375312341403616, 29367),\n",
       "  'New York': (0.601816880626303, 24461),\n",
       "  'Orange': (0.5732919876334426, 18922),\n",
       "  'Wilkinson': (0.5321702328355001, 18614),\n",
       "  'Dallas': (0.5420005596445318, 18342),\n",
       "  'Clark': (0.5857066488479824, 16406),\n",
       "  'Concho': (0.5378161142708061, 15332),\n",
       "  'Maricopa': (0.5580187421527596, 15292),\n",
       "  'Kings': (0.5713028916853933, 13350),\n",
       "  'Philadelphia': (0.5498179328229377, 13323),\n",
       "  'Jefferson': (0.5470096165957105, 12449),\n",
       "  'Miami-Dade': (0.5722655434566264, 12058),\n",
       "  'Madison': (0.5435764589593414, 11781)},\n",
       " '2019_1_08': {'Los Angeles': (0.5648899245247793, 58920),\n",
       "  'Harris': (0.5313921211335924, 30099),\n",
       "  'Cook': (0.5563307220143885, 24325),\n",
       "  'New York': (0.5970710870521815, 24089),\n",
       "  'Wilkinson': (0.5321807393252261, 21874),\n",
       "  'Orange': (0.5766159016740621, 19832),\n",
       "  'Dallas': (0.5472066527604167, 19200),\n",
       "  'Clark': (0.6022794090168387, 18410),\n",
       "  'Concho': (0.5466893297581141, 17901),\n",
       "  'Maricopa': (0.561884625446201, 15688),\n",
       "  'Jefferson': (0.5433826971742761, 14368),\n",
       "  'Madison': (0.5461362667544631, 13668),\n",
       "  'Kings': (0.569339647943981, 13424),\n",
       "  'Fulton': (0.5619546678711705, 12730),\n",
       "  'Richmond': (0.5509803191489362, 12502)},\n",
       " '2019_1_09': {'Los Angeles': (0.5640979730337079, 59185),\n",
       "  'Harris': (0.5384167508825686, 30026),\n",
       "  'New York': (0.5929589167937988, 24253),\n",
       "  'Cook': (0.5561571336650083, 24120),\n",
       "  'Orange': (0.5699721559472687, 20026),\n",
       "  'Clark': (0.6074139865554009, 19413),\n",
       "  'Wilkinson': (0.5371405172634272, 18768),\n",
       "  'Dallas': (0.5447987404554588, 17916),\n",
       "  'Concho': (0.5434632762187872, 16820),\n",
       "  'Maricopa': (0.5650432196395275, 16090),\n",
       "  'Madison': (0.543962615181069, 13227),\n",
       "  'Kings': (0.5699612316076295, 12845),\n",
       "  'Miami-Dade': (0.575071107039769, 12472),\n",
       "  'Philadelphia': (0.5436338576535586, 12308),\n",
       "  'San Diego': (0.5776629141949152, 12272)},\n",
       " '2019_1_10': {'Los Angeles': (0.5641511485630867, 58911),\n",
       "  'Harris': (0.5334213459393236, 31017),\n",
       "  'Cook': (0.5616819450904921, 24422),\n",
       "  'New York': (0.5972507357198829, 24247),\n",
       "  'Orange': (0.5697023738483521, 20297),\n",
       "  'Clark': (0.597619061765962, 18732),\n",
       "  'Dallas': (0.5471884224573086, 18622),\n",
       "  'Wilkinson': (0.536929470038391, 17973),\n",
       "  'Concho': (0.5411433113783202, 16716),\n",
       "  'Maricopa': (0.5617076699065655, 15947),\n",
       "  'Kings': (0.5666947188622984, 13079),\n",
       "  'Jefferson': (0.5463820458511819, 12606),\n",
       "  'Madison': (0.5473616211219551, 12603),\n",
       "  'Miami-Dade': (0.573368549313963, 12390),\n",
       "  'Philadelphia': (0.5448749896638654, 11900)},\n",
       " '2019_1_11': {'Los Angeles': (0.5687153503445195, 58197),\n",
       "  'Harris': (0.5402537792558512, 29994),\n",
       "  'Cook': (0.5640189480957737, 24892),\n",
       "  'New York': (0.596256843670596, 24007),\n",
       "  'Orange': (0.5788028228112841, 20560),\n",
       "  'Dallas': (0.5473933770308749, 17911),\n",
       "  'Wilkinson': (0.5451588264811895, 17756),\n",
       "  'Clark': (0.590297011722732, 17658),\n",
       "  'Concho': (0.5496449898353445, 16823),\n",
       "  'Maricopa': (0.5646260845237353, 16031),\n",
       "  'Madison': (0.5482577672585336, 13066),\n",
       "  'Kings': (0.5711590752181089, 12723),\n",
       "  'Jefferson': (0.5515538355654173, 12619),\n",
       "  'Bexar': (0.5386727950056207, 12454),\n",
       "  'Miami-Dade': (0.582432941934954, 12176)},\n",
       " '2019_1_12': {'Los Angeles': (0.5626133996639127, 57128),\n",
       "  'Harris': (0.5405667758874186, 28566),\n",
       "  'Cook': (0.5680541788731239, 24386),\n",
       "  'Orange': (0.5781791055503664, 20341),\n",
       "  'New York': (0.605628097121578, 19872),\n",
       "  'Dallas': (0.5533222154965035, 17875),\n",
       "  'Wilkinson': (0.5458154865011124, 16631),\n",
       "  'Clark': (0.5819964874067461, 15683),\n",
       "  'Concho': (0.5547849037393806, 14949),\n",
       "  'Maricopa': (0.5685951673395235, 14862),\n",
       "  'Kings': (0.5742009543527631, 13210),\n",
       "  'Jefferson': (0.5594485615253975, 12954),\n",
       "  'Madison': (0.5487011633114856, 12816),\n",
       "  'San Diego': (0.5745330502198174, 11828),\n",
       "  'Fulton': (0.5689648377325833, 11555)},\n",
       " '2019_1_13': {'Los Angeles': (0.5604131834035899, 58832),\n",
       "  'Harris': (0.5349156324837196, 28562),\n",
       "  'Cook': (0.5568746982880965, 22548),\n",
       "  'Dallas': (0.535371590666334, 20035),\n",
       "  'Orange': (0.5758044703584081, 19196),\n",
       "  'New York': (0.6082274498316139, 18707),\n",
       "  'Wilkinson': (0.5407732860712733, 18408),\n",
       "  'Concho': (0.5453793315041158, 16036),\n",
       "  'Clark': (0.5695967790121133, 15933),\n",
       "  'Maricopa': (0.564224947631242, 15620),\n",
       "  'Philadelphia': (0.5423274680206541, 14525),\n",
       "  'Madison': (0.5389548135812819, 13121),\n",
       "  'Kings': (0.5677007636537086, 12579),\n",
       "  'Montgomery': (0.5608217989099489, 12293),\n",
       "  'Jefferson': (0.5484674928524483, 12172)},\n",
       " '2019_1_14': {'Los Angeles': (0.5577527958193355, 58938),\n",
       "  'Harris': (0.5342003512958964, 27780),\n",
       "  'New York': (0.6035668609309763, 22514),\n",
       "  'Cook': (0.559322178869577, 21921),\n",
       "  'Orange': (0.5675051866879659, 18780),\n",
       "  'Wilkinson': (0.536182100264162, 17035),\n",
       "  'Dallas': (0.5415973537886873, 16866),\n",
       "  'Concho': (0.5413244377702084, 15266),\n",
       "  'Maricopa': (0.5639936678991595, 14875),\n",
       "  'Clark': (0.5705845643904184, 13985),\n",
       "  'Philadelphia': (0.526868414319154, 12389),\n",
       "  'Madison': (0.5389289196861858, 12364),\n",
       "  'Kings': (0.5732267308254794, 12308),\n",
       "  'Jefferson': (0.5476911119592875, 12183),\n",
       "  'Fulton': (0.556087105893186, 11946)},\n",
       " '2019_1_15': {'Los Angeles': (0.5648613295296786, 59066),\n",
       "  'Harris': (0.5409883669397557, 28318),\n",
       "  'New York': (0.600052019471084, 24087),\n",
       "  'Cook': (0.5652494235110418, 22415),\n",
       "  'Orange': (0.5747410474122141, 19109),\n",
       "  'Wilkinson': (0.5442683162604498, 16986),\n",
       "  'Dallas': (0.5489405891782336, 16282),\n",
       "  'Maricopa': (0.565572429670771, 14944),\n",
       "  'Concho': (0.5467474652805813, 14862),\n",
       "  'Clark': (0.5690656677247947, 14491),\n",
       "  'Madison': (0.5503086676587302, 13104),\n",
       "  'Jefferson': (0.5518650512698412, 12600),\n",
       "  'Kings': (0.5792193980139344, 12487),\n",
       "  'Fulton': (0.5690269184800528, 12132),\n",
       "  'Miami-Dade': (0.5755538499192657, 11767)},\n",
       " '2019_1_16': {'Los Angeles': (0.5622849153761442, 58116),\n",
       "  'Harris': (0.5423134300678615, 28735),\n",
       "  'New York': (0.6041971707591143, 24028),\n",
       "  'Cook': (0.5702943010619469, 22600),\n",
       "  'Orange': (0.567286631749794, 19408),\n",
       "  'Dallas': (0.5533984739189111, 17043),\n",
       "  'Wilkinson': (0.5443258771494309, 16516),\n",
       "  'Clark': (0.5771996601289447, 14735),\n",
       "  'Concho': (0.5529018307598124, 14701),\n",
       "  'Maricopa': (0.5607403962539022, 14415),\n",
       "  'Fulton': (0.5697183251610876, 12726),\n",
       "  'Kings': (0.5706456609100228, 12681),\n",
       "  'Miami-Dade': (0.5770342224587967, 12681),\n",
       "  'Madison': (0.5479727998706758, 12372),\n",
       "  'Jefferson': (0.5596342507283776, 12013)},\n",
       " '2019_1_17': {'Los Angeles': (0.5601542496216126, 61445),\n",
       "  'Harris': (0.5382361849825616, 29246),\n",
       "  'Cook': (0.5653405234226228, 23631),\n",
       "  'New York': (0.6008631840543194, 23417),\n",
       "  'Orange': (0.5663631320697955, 19944),\n",
       "  'Dallas': (0.5536549322967468, 17429),\n",
       "  'Wilkinson': (0.5389083346059773, 16763),\n",
       "  'Concho': (0.5525234091998402, 15022),\n",
       "  'Clark': (0.5776470158963398, 14972),\n",
       "  'Maricopa': (0.5689767347369856, 14676),\n",
       "  'Kings': (0.5728498128134974, 13158),\n",
       "  'Madison': (0.5429630440382538, 12966),\n",
       "  'Fulton': (0.5667819424220795, 12609),\n",
       "  'Miami-Dade': (0.5767161646627915, 12559),\n",
       "  'Jefferson': (0.5543677459188621, 12374)},\n",
       " '2019_1_18': {'Los Angeles': (0.5690430702734859, 63879),\n",
       "  'Harris': (0.5413726589003112, 29572),\n",
       "  'Cook': (0.5687656110361741, 24465),\n",
       "  'New York': (0.6033342453823651, 23930),\n",
       "  'Orange': (0.5737130316383622, 20197),\n",
       "  'Wilkinson': (0.5488325416273256, 18005),\n",
       "  'Dallas': (0.5557615092035093, 17439),\n",
       "  'Concho': (0.5516114722085284, 16228),\n",
       "  'Maricopa': (0.5679445039551543, 16055),\n",
       "  'Clark': (0.5786904618412698, 15750),\n",
       "  'Kings': (0.5735556926438996, 13499),\n",
       "  'District of Columbia': (0.5722049305027933, 13425),\n",
       "  'Madison': (0.5435959666310324, 13096),\n",
       "  'San Diego': (0.5755641252118969, 12978),\n",
       "  'Fulton': (0.5694129646795711, 12967)},\n",
       " '2019_1_19': {'Los Angeles': (0.5678362000453143, 57377),\n",
       "  'Harris': (0.5395307922463713, 26594),\n",
       "  'Cook': (0.5616112393657829, 23462),\n",
       "  'New York': (0.6017025601385071, 19638),\n",
       "  'Orange': (0.5818543013283739, 18820),\n",
       "  'Wilkinson': (0.5447359738171264, 17225),\n",
       "  'Dallas': (0.5508483485458894, 15886),\n",
       "  'Clark': (0.5856708005336044, 15742),\n",
       "  'Maricopa': (0.5699427786607607, 15352),\n",
       "  'Concho': (0.5489568554769126, 14835),\n",
       "  'Kings': (0.5675985256902674, 13799),\n",
       "  'Jefferson': (0.5534891095555917, 12286),\n",
       "  'Madison': (0.5436235301935377, 12039),\n",
       "  'Fulton': (0.5649541377225394, 11908),\n",
       "  'Philadelphia': (0.5622353818924438, 11752)},\n",
       " '2019_1_20': {'Los Angeles': (0.5572087379076132, 60658),\n",
       "  'Harris': (0.5318228244742395, 29386),\n",
       "  'Cook': (0.5500853012022511, 23456),\n",
       "  'Wilkinson': (0.5325951653500273, 20127),\n",
       "  'Orange': (0.5663668459336503, 19563),\n",
       "  'New York': (0.5964814888308364, 18757),\n",
       "  'Clark': (0.5797274742051424, 18085),\n",
       "  'Dallas': (0.5392273032945737, 16512),\n",
       "  'Maricopa': (0.5660860650177544, 16334),\n",
       "  'Concho': (0.5393508443148315, 15602),\n",
       "  'Kings': (0.5627040664209209, 14378),\n",
       "  'Jefferson': (0.5366378234794908, 14140),\n",
       "  'Madison': (0.5367517846268657, 13400),\n",
       "  'Fulton': (0.5537210525147362, 13063),\n",
       "  'San Diego': (0.5586420344799279, 12181)},\n",
       " '2019_1_21': {'Los Angeles': (0.5585479218798177, 61623),\n",
       "  'Harris': (0.5300273801553294, 29872),\n",
       "  'Cook': (0.5487216522263838, 24030),\n",
       "  'Orange': (0.567604358225875, 21171),\n",
       "  'New York': (0.5818618398484923, 20593),\n",
       "  'Wilkinson': (0.5233422761593342, 20184),\n",
       "  'Clark': (0.5761541155452159, 16764),\n",
       "  'Dallas': (0.5397168925730248, 16467),\n",
       "  'Concho': (0.5385259286598193, 16162),\n",
       "  'Maricopa': (0.5510113216064757, 16060),\n",
       "  'Kings': (0.5576158055536558, 14621),\n",
       "  'Fulton': (0.5510468399073554, 14248),\n",
       "  'Jefferson': (0.5355649528281597, 13949),\n",
       "  'Madison': (0.532095778353147, 13711),\n",
       "  'Philadelphia': (0.5321061459662288, 13325)},\n",
       " '2019_1_22': {'Los Angeles': (0.5617837596409407, 59823),\n",
       "  'Harris': (0.5280192037713733, 29008),\n",
       "  'Cook': (0.5554952420907839, 23264),\n",
       "  'New York': (0.5940450026734393, 22443),\n",
       "  'Orange': (0.576898517618287, 20036),\n",
       "  'Wilkinson': (0.5350646360544217, 17052),\n",
       "  'Dallas': (0.5477994145997054, 16288),\n",
       "  'Clark': (0.58024179359227, 15731),\n",
       "  'Maricopa': (0.5579938641729674, 15078),\n",
       "  'Concho': (0.5486631081389113, 14916),\n",
       "  'Fulton': (0.559087652883973, 13471),\n",
       "  'Kings': (0.5714581098909364, 13295),\n",
       "  'Madison': (0.5382022232900849, 12486),\n",
       "  'Jefferson': (0.549205681763527, 12475),\n",
       "  'Miami-Dade': (0.5740721129669974, 12393)},\n",
       " '2019_1_23': {'Los Angeles': (0.5647997478343727, 57720),\n",
       "  'Harris': (0.5298003288063878, 29306),\n",
       "  'Cook': (0.5637605888566605, 23099),\n",
       "  'New York': (0.599566426692965, 22815),\n",
       "  'Orange': (0.574967433512644, 19891),\n",
       "  'Wilkinson': (0.5411515460590531, 16392),\n",
       "  'Dallas': (0.548947361627693, 16293),\n",
       "  'Clark': (0.5756604652589904, 15155),\n",
       "  'Maricopa': (0.5642086018261215, 15114),\n",
       "  'Concho': (0.541099848919851, 14211),\n",
       "  'Miami-Dade': (0.5788267794960773, 13256),\n",
       "  'Madison': (0.5449440024308722, 13164),\n",
       "  'Kings': (0.5664337484251969, 12700),\n",
       "  'Jefferson': (0.550339639614527, 12556),\n",
       "  'Fulton': (0.5669734892999336, 12056)},\n",
       " '2019_1_24': {'Los Angeles': (0.5675186636347098, 60467),\n",
       "  'Harris': (0.5373043267786795, 29699),\n",
       "  'New York': (0.6014824974348366, 24170),\n",
       "  'Cook': (0.5588812902306187, 23502),\n",
       "  'Orange': (0.5819250574882214, 21013),\n",
       "  'Wilkinson': (0.5368677436377034, 17643),\n",
       "  'Dallas': (0.5513517429153435, 16691),\n",
       "  'Maricopa': (0.5632486706401766, 15855),\n",
       "  'Clark': (0.5838354064205457, 15575),\n",
       "  'Concho': (0.5500799583698215, 14845),\n",
       "  'Madison': (0.5463022253305091, 13691),\n",
       "  'Kings': (0.574679749209617, 13601),\n",
       "  'Miami-Dade': (0.5682466553169199, 13363),\n",
       "  'Fulton': (0.5642698221430307, 12347),\n",
       "  'Jefferson': (0.5502671391756835, 12107)},\n",
       " '2019_1_25': {'Los Angeles': (0.568541232343572, 60587),\n",
       "  'Harris': (0.5456424040364211, 27896),\n",
       "  'Cook': (0.561734175170411, 24793),\n",
       "  'New York': (0.6030943068144767, 24536),\n",
       "  'Orange': (0.5879433284753364, 21408),\n",
       "  'Dallas': (0.5547921101557991, 17330),\n",
       "  'Wilkinson': (0.5464256570369499, 16996),\n",
       "  'Maricopa': (0.5746742643525544, 15816),\n",
       "  'Concho': (0.5488824258617306, 15289),\n",
       "  'Clark': (0.5828735155753767, 14799),\n",
       "  'Kings': (0.5765519498549216, 13441),\n",
       "  'Jefferson': (0.5560982101785035, 13165),\n",
       "  'Madison': (0.5581803545517295, 13039),\n",
       "  'Miami-Dade': (0.5764101872401662, 12508),\n",
       "  'Fulton': (0.5726051410507424, 12258)},\n",
       " '2019_1_26': {'Los Angeles': (0.5693441005697343, 55991),\n",
       "  'Harris': (0.5526001384265982, 26859),\n",
       "  'Cook': (0.5672379693713777, 22430),\n",
       "  'Orange': (0.5966532488873839, 20672),\n",
       "  'New York': (0.6111993557638994, 19839),\n",
       "  'Wilkinson': (0.546564495545657, 16164),\n",
       "  'Dallas': (0.5640482280066108, 15732),\n",
       "  'Maricopa': (0.5854458282084691, 15350),\n",
       "  'Clark': (0.5886234847690135, 14871),\n",
       "  'Concho': (0.561502178663423, 13976),\n",
       "  'Kings': (0.5704538147595976, 13415),\n",
       "  'Miami-Dade': (0.5788613354399211, 12184),\n",
       "  'Fulton': (0.5752533621710527, 12160),\n",
       "  'Jefferson': (0.5612545316643334, 12143),\n",
       "  'Madison': (0.5606801440093123, 12027)},\n",
       " '2019_1_27': {'Los Angeles': (0.5730337344252118, 54768),\n",
       "  'Harris': (0.5408306634193674, 25765),\n",
       "  'Cook': (0.5622412084896705, 22121),\n",
       "  'Orange': (0.5933370182238065, 19919),\n",
       "  'New York': (0.6048690022691664, 18509),\n",
       "  'Wilkinson': (0.5456951496425829, 16927),\n",
       "  'Dallas': (0.5497429647307007, 15169),\n",
       "  'Maricopa': (0.583105892336374, 15019),\n",
       "  'Clark': (0.5873447575798411, 14842),\n",
       "  'Concho': (0.5572336133957508, 13885),\n",
       "  'Kings': (0.574647109714914, 12733),\n",
       "  'Miami-Dade': (0.5812403096790164, 12119),\n",
       "  'Madison': (0.5539181034865835, 11702),\n",
       "  'Jefferson': (0.560848167566641, 11667),\n",
       "  'Fulton': (0.576102851273198, 11585)},\n",
       " '2019_1_28': {'Los Angeles': (0.5692868662632117, 58660),\n",
       "  'Harris': (0.5419129031973772, 28367),\n",
       "  'Cook': (0.5521058434232919, 24678),\n",
       "  'New York': (0.5983079466126034, 23676),\n",
       "  'Orange': (0.5831608183227557, 20641),\n",
       "  'Wilkinson': (0.5418471824499943, 17698),\n",
       "  'Maricopa': (0.5717297599016145, 15856),\n",
       "  'Dallas': (0.5521183134139394, 15797),\n",
       "  'Clark': (0.5784342983346873, 14772),\n",
       "  'Concho': (0.5491667139731826, 14170),\n",
       "  'Fulton': (0.5616116524212473, 14063),\n",
       "  'Kings': (0.5771943300963783, 13696),\n",
       "  'Miami-Dade': (0.5647934439020611, 12906),\n",
       "  'Jefferson': (0.5477724411331005, 12885),\n",
       "  'Madison': (0.5501992743320229, 12463)},\n",
       " '2019_1_29': {'Los Angeles': (0.5631576223099538, 59525),\n",
       "  'Harris': (0.5352325389907443, 28199),\n",
       "  'Cook': (0.5397533235112382, 25894),\n",
       "  'New York': (0.587478135743252, 22933),\n",
       "  'Orange': (0.5751808371630359, 20106),\n",
       "  'Wilkinson': (0.5371393833640785, 17889),\n",
       "  'Dallas': (0.5476682995786062, 15425),\n",
       "  'Maricopa': (0.563366283933609, 15243),\n",
       "  'Fulton': (0.5614394780021253, 14115),\n",
       "  'Concho': (0.548198230605588, 14102),\n",
       "  'Clark': (0.5667164351464433, 13862),\n",
       "  'Miami-Dade': (0.5733777204462732, 12638),\n",
       "  'Madison': (0.5450352518424598, 12619),\n",
       "  'Kings': (0.5684093758791559, 12512),\n",
       "  'Jefferson': (0.5495219203167931, 12374)},\n",
       " '2019_1_30': {'Los Angeles': (0.5620321812906064, 59104),\n",
       "  'Cook': (0.5433623873011303, 27782),\n",
       "  'Harris': (0.5403789236179385, 26446),\n",
       "  'New York': (0.5920840626028958, 23689),\n",
       "  'Orange': (0.5758972943402014, 19559),\n",
       "  'Wilkinson': (0.5374953905709604, 16481),\n",
       "  'Dallas': (0.5471119061044843, 15677),\n",
       "  'Maricopa': (0.5619500465521694, 15488),\n",
       "  'Fulton': (0.5697084088220622, 14033),\n",
       "  'Clark': (0.5676703157439448, 13872),\n",
       "  'Concho': (0.55391925955749, 13785),\n",
       "  'Madison': (0.5393262902517449, 12751),\n",
       "  'Kings': (0.5690109900990099, 12726),\n",
       "  'Jefferson': (0.5491196885026739, 12716),\n",
       "  'Miami-Dade': (0.5713655043034745, 12548)},\n",
       " '2019_1_31': {'Los Angeles': (0.5587904125309364, 61416),\n",
       "  'Harris': (0.5362541847758004, 27141),\n",
       "  'New York': (0.5867024844119969, 25340),\n",
       "  'Cook': (0.5532605365315463, 24472),\n",
       "  'Orange': (0.5731410913602755, 19746),\n",
       "  'Dallas': (0.5539534675355172, 17034),\n",
       "  'Wilkinson': (0.5368923829111992, 16385),\n",
       "  'Maricopa': (0.5698247818976362, 15103),\n",
       "  'Fulton': (0.5754418639460464, 14531),\n",
       "  'Concho': (0.550524923324923, 14268),\n",
       "  'Kings': (0.5651394454833248, 13583),\n",
       "  'Clark': (0.5680361898847823, 13366),\n",
       "  'Madison': (0.5400600088139786, 12934),\n",
       "  'Miami-Dade': (0.5785491809538653, 12832),\n",
       "  'San Diego': (0.5671918646666116, 12133)}}"
      ]
     },
     "execution_count": 5,
     "metadata": {},
     "output_type": "execute_result"
    }
   ],
   "source": [
    "date_2_city_2_avg_n_numpost"
   ]
  },
  {
   "cell_type": "code",
   "execution_count": 6,
   "metadata": {},
   "outputs": [
    {
     "data": {
      "text/plain": [
       "{'Los Angeles': 1825890,\n",
       " 'Harris': 901092,\n",
       " 'Cook': 749306,\n",
       " 'Orange': 619248,\n",
       " 'Wilkinson': 568658,\n",
       " 'New York': 690571,\n",
       " 'Dallas': 541188,\n",
       " 'Concho': 482540,\n",
       " 'Clark': 486942,\n",
       " 'Maricopa': 477448,\n",
       " 'Kings': 409583,\n",
       " 'Jefferson': 358725,\n",
       " 'Miami-Dade': 249662,\n",
       " 'Madison': 381489,\n",
       " 'Fulton': 280498,\n",
       " 'Richmond': 36108,\n",
       " 'Bexar': 49894,\n",
       " 'Philadelphia': 102362,\n",
       " 'Tarrant': 13144,\n",
       " 'San Diego': 73804,\n",
       " 'Montgomery': 12293,\n",
       " 'District of Columbia': 13425}"
      ]
     },
     "execution_count": 6,
     "metadata": {},
     "output_type": "execute_result"
    }
   ],
   "source": [
    "city_2_numpost"
   ]
  },
  {
   "cell_type": "code",
   "execution_count": 8,
   "metadata": {},
   "outputs": [
    {
     "data": {
      "text/plain": [
       "['Los Angeles', 'Harris', 'Cook', 'New York', 'Orange']"
      ]
     },
     "execution_count": 8,
     "metadata": {},
     "output_type": "execute_result"
    }
   ],
   "source": [
    "top_5_us_cities = [k for k, v in sorted(city_2_numpost.items(), key=lambda item: item[1], reverse=True)][:5]\n",
    "top_5_us_cities"
   ]
  },
  {
   "cell_type": "code",
   "execution_count": 11,
   "metadata": {},
   "outputs": [],
   "source": [
    "for city in top_5_us_cities:\n",
    "    data = []\n",
    "    for date in date_2_city_2_avg_n_numpost.keys():\n",
    "        if city in date_2_city_2_avg_n_numpost[date].keys():\n",
    "            data.append([date, date_2_city_2_avg_n_numpost[date][city][0]])\n",
    "        else:\n",
    "            data.append(date, \"NaN\")\n",
    "    df = pd.DataFrame(data=data,\n",
    "                     columns=[\"date\", \"avg_sent_score\"])\n",
    "    df.to_csv(\"\".join([\"../output/sentiment_graph_by_region/\", city, \"_2019_1.csv\"]))"
   ]
  },
  {
   "cell_type": "code",
   "execution_count": 32,
   "metadata": {},
   "outputs": [
    {
     "data": {
      "image/png": "[encoded data removed]",
      "text/plain": [
       "<Figure size 432x288 with 1 Axes>"
      ]
     },
     "metadata": {
      "needs_background": "light"
     },
     "output_type": "display_data"
    },
    {
     "data": {
      "image/png": "[encoded data removed]",
      "text/plain": [
       "<Figure size 432x288 with 1 Axes>"
      ]
     },
     "metadata": {
      "needs_background": "light"
     },
     "output_type": "display_data"
    },
    {
     "data": {
      "image/png": "[encoded data removed]",
      "text/plain": [
       "<Figure size 432x288 with 1 Axes>"
      ]
     },
     "metadata": {
      "needs_background": "light"
     },
     "output_type": "display_data"
    },
    {
     "data": {
      "image/png": "[encoded data removed]",
      "text/plain": [
       "<Figure size 432x288 with 1 Axes>"
      ]
     },
     "metadata": {
      "needs_background": "light"
     },
     "output_type": "display_data"
    },
    {
     "data": {
      "image/png": "[encoded data removed]",
      "text/plain": [
       "<Figure size 432x288 with 1 Axes>"
      ]
     },
     "metadata": {
      "needs_background": "light"
     },
     "output_type": "display_data"
    },
    {
     "data": {
      "text/plain": [
       "<Figure size 432x288 with 0 Axes>"
      ]
     },
     "metadata": {},
     "output_type": "display_data"
    }
   ],
   "source": [
    "for city in top_5_us_cities:\n",
    "    df = pd.read_csv(\"\".join([\"../output/sentiment_graph_by_region/\", city, \"_2019_1.csv\"]))\n",
    "    base = date(2019, 1, 1)\n",
    "    numdays = 31\n",
    "    x = [base + timedelta(days=x) for x in range(numdays)]\n",
    "    y = df[\"avg_sent_score\"]\n",
    "\n",
    "    plt.plot(x, y)\n",
    "    \n",
    "    plt.title(\"\".join([\"Daily Average Sentiment of Posts in \", city, \" County, 2019-1\"]))\n",
    "    plt.xticks(rotation = 45)\n",
    "    plt.xlabel(\"Dates\")\n",
    "    plt.ylabel(\"Daily Average Sentiment\")\n",
    "    # plt.legend(bbox_to_anchor=(1.6, 1.0), loc='upper right')\n",
    "\n",
    "    plt.show()\n",
    "    plt.savefig(\"\".join([\"../output/sentiment_graph_by_region/\", city, \"_2019_1_graph.png\"]))"
   ]
  },
  {
   "cell_type": "code",
   "execution_count": null,
   "metadata": {},
   "outputs": [],
   "source": []
  }
 ],
 "metadata": {
  "kernelspec": {
   "display_name": "Python 3",
   "language": "python",
   "name": "python3"
  },
  "language_info": {
   "codemirror_mode": {
    "name": "ipython",
    "version": 3
   },
   "file_extension": ".py",
   "mimetype": "text/x-python",
   "name": "python",
   "nbconvert_exporter": "python",
   "pygments_lexer": "ipython3",
   "version": "3.6.9"
  }
 },
 "nbformat": 4,
 "nbformat_minor": 2
}
