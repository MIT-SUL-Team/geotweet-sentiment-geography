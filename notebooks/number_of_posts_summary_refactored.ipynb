{
 "cells": [
  {
   "cell_type": "markdown",
   "metadata": {},
   "source": [
    "Refactoring number of posts summary code to put into a script."
   ]
  },
  {
   "cell_type": "code",
   "execution_count": null,
   "metadata": {},
   "outputs": [],
   "source": [
    "import sys\n",
    "import os\n",
    "import numpy as np\n",
    "import pandas as pd\n",
    "import gzip\n",
    "from script import days_in_month, hours_in_day, leap_year\n",
    "import time\n",
    "import matplotlib.pyplot as plt\n",
    "import matplotlib.dates as mdates\n",
    "from datetime import date, timedelta\n",
    "from pandas.plotting import register_matplotlib_converters\n",
    "register_matplotlib_converters()"
   ]
  },
  {
   "cell_type": "code",
   "execution_count": null,
   "metadata": {},
   "outputs": [],
   "source": [
    "def daily_num_posts_two_df(path_1, prefix_1, path_2, prefix_2, year, month, day):\n",
    "    \"\"\"\n",
    "    @param path_n: str, file path (directory) to df n\n",
    "    @param prefix_n: str, file prefix, \"geography\" for geography files, \"bert_sentiment\" for sentiment files\n",
    "    @param year: int, year\n",
    "    @param month: int, month\n",
    "    @param day: int, day\n",
    "    \n",
    "    returns: number of geotagged posts, number of sentiment posts, number of common posts on this day\n",
    "    \"\"\"\n",
    "    num_posts_1 = 0\n",
    "    num_posts_2 = 0\n",
    "    num_posts_common = 0\n",
    "    day_path_1 = ''.join([path_1, prefix_1, \"_\", str(year), \"_\", str(month), \"_\", str(day).zfill(2)])\n",
    "    day_path_2 = ''.join([path_2, prefix_2, \"_\", str(year), \"_\", str(month), \"_\", str(day).zfill(2)])\n",
    "    for hour in hours_in_day():\n",
    "        try:\n",
    "            with gzip.open(''.join([day_path_1, \"_\", hour, \".csv.gz\"])) as f:\n",
    "                posts_1 = pd.read_csv(f, sep=\"\\t\")\n",
    "                num_posts_1 += len(posts_1)\n",
    "        except FileNotFoundError:\n",
    "            print(''.join([day_path_1, \"_\", hour, \".csv.gz\"]), \"does not exist.\")\n",
    "            continue\n",
    "        except pd.errors.EmptyDataError:\n",
    "            print(''.join([day_path_1, \"_\", hour, \".csv.gz\"]), \"is empty.\")\n",
    "            continue\n",
    "        try:\n",
    "            with gzip.open(''.join([day_path_2, \"_\", hour, \".csv.gz\"])) as f:\n",
    "                posts_2 = pd.read_csv(f, sep=\"\\t\")\n",
    "                num_posts_2 += len(posts_2)\n",
    "        except FileNotFoundError:\n",
    "            print(''.join([day_path_2, \"_\", hour, \".csv.gz\"]), \"does not exist.\")\n",
    "            continue\n",
    "        except pd.errors.EmptyDataError:\n",
    "            print(''.join([day_path_2, \"_\", hour, \".csv.gz\"]), \"is empty.\")\n",
    "            continue\n",
    "        num_posts_common += len(pd.merge(posts_1, posts_2, on=\"message_id\", how=\"inner\"))\n",
    "    return num_posts_1, num_posts_2, num_posts_common\n",
    "\n",
    "\n",
    "geo_path = \"/srv/data/twitter_geography/2015/\"\n",
    "sent_path = \"/srv/data/twitter_sentiment/2015/\"\n",
    "daily_num_posts_two_df(geo_path, \"geography\", sent_path, \"bert_sentiment\", 2015, 12, 10)"
   ]
  },
  {
   "cell_type": "code",
   "execution_count": null,
   "metadata": {},
   "outputs": [],
   "source": [
    "def generate_daily_num_posts_df_year(year, geo_dir, sent_dir, out_dir):\n",
    "    \"\"\"\n",
    "    @param year: int, year to generate the dataframe for\n",
    "    @param geo_dir: directory under which the geography data files are stored\n",
    "    @param sent_dir: directory under which the sentiment data files are stored\n",
    "    @param out_dir: directory to which the dataframe will be stored as csv file\n",
    "    \n",
    "    Generates \n",
    "    1) a csv file which includes the number of geotagged posts, sentiment posts, common psets by day for the givern year;\n",
    "    2) missing file, empty file, corrupt file reports \n",
    "    \n",
    "    \"\"\"\n",
    "    geo_path = ''.join([geo_dir, str(year), \"/\"])\n",
    "    sent_path = ''.join([sent_dir, str(year), \"/\"])\n",
    "    data = []\n",
    "    for month in range(1, 13):\n",
    "        for day in range(1, days_in_month(month, year) + 1):\n",
    "            data.append([year, month, day] + list(daily_num_posts_two_df(geo_path, \"geography\", sent_path, \"bert_sentiment\", year, month, day)))\n",
    "    df = pd.DataFrame(data=data,    # values \n",
    "             columns=[\"year\", \"month\", \"day\", \"num_geo_posts\", \"num_sent_posts\", \"num_common_posts\"]) \n",
    "    df.to_csv(''.join([out_dir, \"num_posts_summary_\", str(year), \".csv\"]))"
   ]
  },
  {
   "cell_type": "code",
   "execution_count": null,
   "metadata": {},
   "outputs": [],
   "source": [
    "geo_dir = \"/srv/data/twitter_geography/\"\n",
    "sent_dir = \"/srv/data/twitter_sentiment/\"\n",
    "out_dir = \"../output/\"\n",
    "\n",
    "generate_daily_num_posts_df_year(2015, geo_dir, sent_dir, out_dir)"
   ]
  },
  {
   "cell_type": "code",
   "execution_count": null,
   "metadata": {},
   "outputs": [],
   "source": [
    "def get_date_list(year):\n",
    "    base = date(year, 1, 1)\n",
    "    numdays = 365 + int(leap_year(year))*1\n",
    "    return [base + timedelta(days=x) for x in range(numdays)]"
   ]
  },
  {
   "cell_type": "code",
   "execution_count": null,
   "metadata": {},
   "outputs": [],
   "source": [
    "def generate_daily_num_posts_graph_year(year, in_dir, out_dir):\n",
    "    \"\"\"\n",
    "    @param year: int, year\n",
    "    @param in_dir: str, directory to which num_post_summary csv files are stored\n",
    "    @param out_dir: str, directory to which the graph will be stored\n",
    "    \"\"\"\n",
    "    df = pd.read_csv(\"\".join([in_dir,\"num_posts_summary_\", str(year), \".csv\"]))\n",
    "\n",
    "    x = get_date_list(year)\n",
    "    y_geo = df['num_geo_posts']\n",
    "    y_sent = df['num_sent_posts']\n",
    "    y_common = df['num_common_posts']\n",
    "\n",
    "    plt.plot(x, y_geo, color='silver', label=\"Geotagged Posts\")\n",
    "    plt.plot(x, y_sent, color='grey', label=\"Posts with Sentiment Scores\")\n",
    "    plt.plot(x, y_common, color='green', label=\"Common Posts\")\n",
    "\n",
    "    plt.title(\"\".join([\"Number of Posts by Day in \", str(year)]))\n",
    "    plt.legend(bbox_to_anchor=(1.6, 1.0), loc='upper right')\n",
    "\n",
    "    plt.savefig(\"\".join([out_dir, \"daily_num_posts_graph_\", str(year)]), bbox_inches = 'tight')"
   ]
  },
  {
   "cell_type": "code",
   "execution_count": null,
   "metadata": {},
   "outputs": [],
   "source": [
    "generate_daily_num_posts_graph_year(2021, \"../output/\", \"../output/\")"
   ]
  },
  {
   "cell_type": "code",
   "execution_count": null,
   "metadata": {},
   "outputs": [],
   "source": []
  }
 ],
 "metadata": {
  "kernelspec": {
   "display_name": "Python 3",
   "language": "python",
   "name": "python3"
  },
  "language_info": {
   "codemirror_mode": {
    "name": "ipython",
    "version": 3
   },
   "file_extension": ".py",
   "mimetype": "text/x-python",
   "name": "python",
   "nbconvert_exporter": "python",
   "pygments_lexer": "ipython3",
   "version": "3.6.9"
  }
 },
 "nbformat": 4,
 "nbformat_minor": 2
}
