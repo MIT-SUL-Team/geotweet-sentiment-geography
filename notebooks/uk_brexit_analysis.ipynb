{
 "cells": [
  {
   "cell_type": "code",
   "execution_count": 47,
   "metadata": {},
   "outputs": [],
   "source": [
    "import pandas as pd\n",
    "import glob\n",
    "import matplotlib.pyplot as plt\n",
    "import reverse_geocoder as rg\n",
    "import pyreadr\n",
    "pd.options.display.max_columns=100"
   ]
  },
  {
   "cell_type": "code",
   "execution_count": 48,
   "metadata": {},
   "outputs": [],
   "source": [
    "country = 'uk'"
   ]
  },
  {
   "cell_type": "code",
   "execution_count": null,
   "metadata": {},
   "outputs": [],
   "source": [
    "df = pd.read_csv('../data/regression_dataframes/uk_regression_df.csv')"
   ]
  },
  {
   "cell_type": "code",
   "execution_count": 87,
   "metadata": {},
   "outputs": [],
   "source": [
    "df_gb = df.groupby(['country', 'geo_var'])\n",
    "df_gb = pd.DataFrame({\n",
    "    'liwc_score': df_gb['liwc_score'].mean(),\n",
    "    'liwc_score_std': df_gb['liwc_score'].std(),\n",
    "    'liwc_count': df_gb['liwc_count'].sum(),\n",
    "    'temp': df_gb['temp'].mean()#,\n",
    "#     'temp_max': df_gb['temp_max'].max(),\n",
    "#     'prcp': df_gb['prcp'].mean()\n",
    "}).reset_index()"
   ]
  },
  {
   "cell_type": "code",
   "execution_count": 88,
   "metadata": {},
   "outputs": [
    {
     "data": {
      "text/html": [
       "<div>\n",
       "<style scoped>\n",
       "    .dataframe tbody tr th:only-of-type {\n",
       "        vertical-align: middle;\n",
       "    }\n",
       "\n",
       "    .dataframe tbody tr th {\n",
       "        vertical-align: top;\n",
       "    }\n",
       "\n",
       "    .dataframe thead th {\n",
       "        text-align: right;\n",
       "    }\n",
       "</style>\n",
       "<table border=\"1\" class=\"dataframe\">\n",
       "  <thead>\n",
       "    <tr style=\"text-align: right;\">\n",
       "      <th></th>\n",
       "      <th>country</th>\n",
       "      <th>geo_var</th>\n",
       "      <th>liwc_score</th>\n",
       "      <th>liwc_score_std</th>\n",
       "      <th>liwc_count</th>\n",
       "      <th>temp</th>\n",
       "    </tr>\n",
       "  </thead>\n",
       "  <tbody>\n",
       "    <tr>\n",
       "      <td>0</td>\n",
       "      <td>United Kingdom</td>\n",
       "      <td>Aberdeen City</td>\n",
       "      <td>0.683443</td>\n",
       "      <td>0.090890</td>\n",
       "      <td>40866</td>\n",
       "      <td>6.915829</td>\n",
       "    </tr>\n",
       "    <tr>\n",
       "      <td>1</td>\n",
       "      <td>United Kingdom</td>\n",
       "      <td>Aberdeenshire</td>\n",
       "      <td>0.695780</td>\n",
       "      <td>0.094811</td>\n",
       "      <td>28096</td>\n",
       "      <td>7.036524</td>\n",
       "    </tr>\n",
       "    <tr>\n",
       "      <td>2</td>\n",
       "      <td>United Kingdom</td>\n",
       "      <td>An Cabhan</td>\n",
       "      <td>0.622642</td>\n",
       "      <td>0.454266</td>\n",
       "      <td>63</td>\n",
       "      <td>9.953125</td>\n",
       "    </tr>\n",
       "    <tr>\n",
       "      <td>3</td>\n",
       "      <td>United Kingdom</td>\n",
       "      <td>Anglesey</td>\n",
       "      <td>0.709626</td>\n",
       "      <td>0.245868</td>\n",
       "      <td>3775</td>\n",
       "      <td>8.857143</td>\n",
       "    </tr>\n",
       "    <tr>\n",
       "      <td>4</td>\n",
       "      <td>United Kingdom</td>\n",
       "      <td>Angus</td>\n",
       "      <td>0.661247</td>\n",
       "      <td>0.191417</td>\n",
       "      <td>11137</td>\n",
       "      <td>7.852564</td>\n",
       "    </tr>\n",
       "  </tbody>\n",
       "</table>\n",
       "</div>"
      ],
      "text/plain": [
       "          country        geo_var  liwc_score  liwc_score_std  liwc_count  \\\n",
       "0  United Kingdom  Aberdeen City    0.683443        0.090890       40866   \n",
       "1  United Kingdom  Aberdeenshire    0.695780        0.094811       28096   \n",
       "2  United Kingdom      An Cabhan    0.622642        0.454266          63   \n",
       "3  United Kingdom       Anglesey    0.709626        0.245868        3775   \n",
       "4  United Kingdom          Angus    0.661247        0.191417       11137   \n",
       "\n",
       "       temp  \n",
       "0  6.915829  \n",
       "1  7.036524  \n",
       "2  9.953125  \n",
       "3  8.857143  \n",
       "4  7.852564  "
      ]
     },
     "execution_count": 88,
     "metadata": {},
     "output_type": "execute_result"
    }
   ],
   "source": [
    "df_gb.head()"
   ]
  },
  {
   "cell_type": "code",
   "execution_count": 91,
   "metadata": {},
   "outputs": [],
   "source": [
    "temp = pd.read_csv('../output/uk_city_brexit.csv')\n",
    "temp = pd.merge(df_gb, temp, how='left', left_on=['country', 'geo_var'], right_on=['country', 'city'])\n",
    "temp = temp[temp['liwc_count']>100]\n",
    "temp = temp[temp['brexit_leave_score'].notnull()]"
   ]
  },
  {
   "cell_type": "code",
   "execution_count": 92,
   "metadata": {},
   "outputs": [
    {
     "data": {
      "text/plain": [
       "(69, 8)"
      ]
     },
     "execution_count": 92,
     "metadata": {},
     "output_type": "execute_result"
    }
   ],
   "source": [
    "temp.shape"
   ]
  },
  {
   "cell_type": "code",
   "execution_count": 93,
   "metadata": {},
   "outputs": [
    {
     "data": {
      "text/plain": [
       "Text(0, 0.5, 'Vote for Brexit')"
      ]
     },
     "execution_count": 93,
     "metadata": {},
     "output_type": "execute_result"
    },
    {
     "data": {
      "image/png": "[encoded data removed]",
      "text/plain": [
       "<Figure size 504x432 with 1 Axes>"
      ]
     },
     "metadata": {
      "needs_background": "light"
     },
     "output_type": "display_data"
    }
   ],
   "source": [
    "from numpy.polynomial.polynomial import polyfit\n",
    "\n",
    "plt.figure(figsize=(7,6))\n",
    "\n",
    "b, m = polyfit(temp['liwc_score'], temp['brexit_leave_score'], 1)\n",
    "\n",
    "plt.scatter(temp['liwc_score'], temp['brexit_leave_score'])\n",
    "plt.plot(temp['liwc_score'], b + m * temp['liwc_score'], '-', color='red')\n",
    "plt.xlabel('Sentiment Score')\n",
    "plt.ylabel('Vote for Brexit')"
   ]
  },
  {
   "cell_type": "code",
   "execution_count": 94,
   "metadata": {},
   "outputs": [
    {
     "data": {
      "text/html": [
       "<div>\n",
       "<style scoped>\n",
       "    .dataframe tbody tr th:only-of-type {\n",
       "        vertical-align: middle;\n",
       "    }\n",
       "\n",
       "    .dataframe tbody tr th {\n",
       "        vertical-align: top;\n",
       "    }\n",
       "\n",
       "    .dataframe thead th {\n",
       "        text-align: right;\n",
       "    }\n",
       "</style>\n",
       "<table border=\"1\" class=\"dataframe\">\n",
       "  <thead>\n",
       "    <tr style=\"text-align: right;\">\n",
       "      <th></th>\n",
       "      <th>liwc_score</th>\n",
       "      <th>brexit_leave_score</th>\n",
       "    </tr>\n",
       "  </thead>\n",
       "  <tbody>\n",
       "    <tr>\n",
       "      <td>liwc_score</td>\n",
       "      <td>1.000000</td>\n",
       "      <td>0.138753</td>\n",
       "    </tr>\n",
       "    <tr>\n",
       "      <td>brexit_leave_score</td>\n",
       "      <td>0.138753</td>\n",
       "      <td>1.000000</td>\n",
       "    </tr>\n",
       "  </tbody>\n",
       "</table>\n",
       "</div>"
      ],
      "text/plain": [
       "                    liwc_score  brexit_leave_score\n",
       "liwc_score            1.000000            0.138753\n",
       "brexit_leave_score    0.138753            1.000000"
      ]
     },
     "execution_count": 94,
     "metadata": {},
     "output_type": "execute_result"
    }
   ],
   "source": [
    "temp[['liwc_score', 'brexit_leave_score']].corr()"
   ]
  },
  {
   "cell_type": "code",
   "execution_count": 348,
   "metadata": {},
   "outputs": [],
   "source": [
    "from pydoc import help\n",
    "from scipy.stats.stats import pearsonr"
   ]
  },
  {
   "cell_type": "code",
   "execution_count": 349,
   "metadata": {},
   "outputs": [
    {
     "data": {
      "text/plain": [
       "(-0.10470024403785849, 0.39548510298761647)"
      ]
     },
     "execution_count": 349,
     "metadata": {},
     "output_type": "execute_result"
    }
   ],
   "source": [
    "pearsonr(temp['liwc_score'], temp['brexit_leave_score'])"
   ]
  },
  {
   "cell_type": "code",
   "execution_count": 353,
   "metadata": {},
   "outputs": [
    {
     "data": {
      "text/plain": [
       "-0.10470024403785849"
      ]
     },
     "execution_count": 353,
     "metadata": {},
     "output_type": "execute_result"
    }
   ],
   "source": [
    "np.corrcoef(temp['liwc_score'], temp['brexit_leave_score'])[0, 1]"
   ]
  },
  {
   "cell_type": "code",
   "execution_count": null,
   "metadata": {},
   "outputs": [],
   "source": []
  }
 ],
 "metadata": {
  "kernelspec": {
   "display_name": "sandbox",
   "language": "python",
   "name": "sandbox"
  },
  "language_info": {
   "codemirror_mode": {
    "name": "ipython",
    "version": 3
   },
   "file_extension": ".py",
   "mimetype": "text/x-python",
   "name": "python",
   "nbconvert_exporter": "python",
   "pygments_lexer": "ipython3",
   "version": "3.7.4"
  }
 },
 "nbformat": 4,
 "nbformat_minor": 2
}
