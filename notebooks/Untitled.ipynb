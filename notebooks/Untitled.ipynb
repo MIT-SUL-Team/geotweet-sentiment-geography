{
 "cells": [
  {
   "cell_type": "code",
   "execution_count": 9,
   "metadata": {},
   "outputs": [],
   "source": [
    "import pandas as pd"
   ]
  },
  {
   "cell_type": "code",
   "execution_count": 2,
   "metadata": {},
   "outputs": [],
   "source": [
    "df = pyreadr.read_r('../data/01_origin/2019-07-15.Rdata', use_objects='tweets')['tweets']"
   ]
  },
  {
   "cell_type": "code",
   "execution_count": 7,
   "metadata": {},
   "outputs": [],
   "source": [
    "df = df['tweets']"
   ]
  },
  {
   "cell_type": "code",
   "execution_count": 8,
   "metadata": {},
   "outputs": [
    {
     "data": {
      "text/plain": [
       "(4002605, 24)"
      ]
     },
     "execution_count": 8,
     "metadata": {},
     "output_type": "execute_result"
    }
   ],
   "source": [
    "df.shape"
   ]
  },
  {
   "cell_type": "code",
   "execution_count": 14,
   "metadata": {},
   "outputs": [],
   "source": [
    "df = pd.read_csv('/Users/nico/dropbox/data_lake/twitter/processed/text_201101.csv', nrows=10, skiprows=range(1, 10))"
   ]
  },
  {
   "cell_type": "code",
   "execution_count": 15,
   "metadata": {},
   "outputs": [
    {
     "data": {
      "text/html": [
       "<div>\n",
       "<style scoped>\n",
       "    .dataframe tbody tr th:only-of-type {\n",
       "        vertical-align: middle;\n",
       "    }\n",
       "\n",
       "    .dataframe tbody tr th {\n",
       "        vertical-align: top;\n",
       "    }\n",
       "\n",
       "    .dataframe thead th {\n",
       "        text-align: right;\n",
       "    }\n",
       "</style>\n",
       "<table border=\"1\" class=\"dataframe\">\n",
       "  <thead>\n",
       "    <tr style=\"text-align: right;\">\n",
       "      <th></th>\n",
       "      <th>tweet_id</th>\n",
       "      <th>lang</th>\n",
       "      <th>tweet_text</th>\n",
       "    </tr>\n",
       "  </thead>\n",
       "  <tbody>\n",
       "    <tr>\n",
       "      <td>0</td>\n",
       "      <td>28087648102912000</td>\n",
       "      <td>NaN</td>\n",
       "      <td>67fe18ec00000000</td>\n",
       "    </tr>\n",
       "    <tr>\n",
       "      <td>1</td>\n",
       "      <td>27783141426995200</td>\n",
       "      <td>NaN</td>\n",
       "      <td>ae7a18ec00000000</td>\n",
       "    </tr>\n",
       "    <tr>\n",
       "      <td>2</td>\n",
       "      <td>28011666499174400</td>\n",
       "      <td>en</td>\n",
       "      <td>f9b8bd7aa0000000</td>\n",
       "    </tr>\n",
       "    <tr>\n",
       "      <td>3</td>\n",
       "      <td>26727149167714304</td>\n",
       "      <td>NaN</td>\n",
       "      <td>a267e8ec00000000</td>\n",
       "    </tr>\n",
       "    <tr>\n",
       "      <td>4</td>\n",
       "      <td>29847518711906304</td>\n",
       "      <td>NaN</td>\n",
       "      <td>f4b15e06a0000000</td>\n",
       "    </tr>\n",
       "    <tr>\n",
       "      <td>5</td>\n",
       "      <td>30056290201903104</td>\n",
       "      <td>NaN</td>\n",
       "      <td>68392b02a0000000</td>\n",
       "    </tr>\n",
       "    <tr>\n",
       "      <td>6</td>\n",
       "      <td>29624805892292608</td>\n",
       "      <td>NaN</td>\n",
       "      <td>59ee1206a0000000</td>\n",
       "    </tr>\n",
       "    <tr>\n",
       "      <td>7</td>\n",
       "      <td>26331396033220608</td>\n",
       "      <td>NaN</td>\n",
       "      <td>411364baa0000000</td>\n",
       "    </tr>\n",
       "    <tr>\n",
       "      <td>8</td>\n",
       "      <td>28158883537100800</td>\n",
       "      <td>en</td>\n",
       "      <td>d0c7277aa0000000</td>\n",
       "    </tr>\n",
       "    <tr>\n",
       "      <td>9</td>\n",
       "      <td>28313657754517504</td>\n",
       "      <td>NaN</td>\n",
       "      <td>fabd08faa0000000</td>\n",
       "    </tr>\n",
       "  </tbody>\n",
       "</table>\n",
       "</div>"
      ],
      "text/plain": [
       "            tweet_id lang        tweet_text\n",
       "0  28087648102912000  NaN  67fe18ec00000000\n",
       "1  27783141426995200  NaN  ae7a18ec00000000\n",
       "2  28011666499174400   en  f9b8bd7aa0000000\n",
       "3  26727149167714304  NaN  a267e8ec00000000\n",
       "4  29847518711906304  NaN  f4b15e06a0000000\n",
       "5  30056290201903104  NaN  68392b02a0000000\n",
       "6  29624805892292608  NaN  59ee1206a0000000\n",
       "7  26331396033220608  NaN  411364baa0000000\n",
       "8  28158883537100800   en  d0c7277aa0000000\n",
       "9  28313657754517504  NaN  fabd08faa0000000"
      ]
     },
     "execution_count": 15,
     "metadata": {},
     "output_type": "execute_result"
    }
   ],
   "source": [
    "df"
   ]
  },
  {
   "cell_type": "code",
   "execution_count": null,
   "metadata": {},
   "outputs": [],
   "source": []
  }
 ],
 "metadata": {
  "kernelspec": {
   "display_name": "sandbox",
   "language": "python",
   "name": "sandbox"
  },
  "language_info": {
   "codemirror_mode": {
    "name": "ipython",
    "version": 3
   },
   "file_extension": ".py",
   "mimetype": "text/x-python",
   "name": "python",
   "nbconvert_exporter": "python",
   "pygments_lexer": "ipython3",
   "version": "3.7.4"
  }
 },
 "nbformat": 4,
 "nbformat_minor": 2
}
