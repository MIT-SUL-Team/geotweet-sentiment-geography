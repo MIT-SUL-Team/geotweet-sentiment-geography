{
 "cells": [
  {
   "cell_type": "code",
   "execution_count": 25,
   "metadata": {},
   "outputs": [],
   "source": [
    "import pandas as pd\n",
    "from tqdm import tqdm\n",
    "import numpy as np\n",
    "import re"
   ]
  },
  {
   "cell_type": "code",
   "execution_count": 2,
   "metadata": {},
   "outputs": [],
   "source": [
    "df = pd.read_csv('../data/processed/geotagged_text_20190715.csv')"
   ]
  },
  {
   "cell_type": "code",
   "execution_count": 16,
   "metadata": {},
   "outputs": [],
   "source": [
    "df = df[df['lang']=='in'].reset_index(drop=True)"
   ]
  },
  {
   "cell_type": "code",
   "execution_count": 3,
   "metadata": {},
   "outputs": [],
   "source": [
    "pos = pd.read_csv('../sentiment_dicts/InSet-master/positive.tsv', sep='\\t')"
   ]
  },
  {
   "cell_type": "code",
   "execution_count": 4,
   "metadata": {},
   "outputs": [],
   "source": [
    "neg = pd.read_csv('../sentiment_dicts/InSet-master/negative.tsv', sep='\\t')"
   ]
  },
  {
   "cell_type": "code",
   "execution_count": 30,
   "metadata": {},
   "outputs": [],
   "source": [
    "wordlist = pd.concat([pos, neg], axis=0).reset_index(drop=True)\n",
    "wordlist['weight'] = (wordlist['weight']+5)/10"
   ]
  },
  {
   "cell_type": "code",
   "execution_count": 32,
   "metadata": {},
   "outputs": [
    {
     "data": {
      "text/html": [
       "<div>\n",
       "<style scoped>\n",
       "    .dataframe tbody tr th:only-of-type {\n",
       "        vertical-align: middle;\n",
       "    }\n",
       "\n",
       "    .dataframe tbody tr th {\n",
       "        vertical-align: top;\n",
       "    }\n",
       "\n",
       "    .dataframe thead th {\n",
       "        text-align: right;\n",
       "    }\n",
       "</style>\n",
       "<table border=\"1\" class=\"dataframe\">\n",
       "  <thead>\n",
       "    <tr style=\"text-align: right;\">\n",
       "      <th></th>\n",
       "      <th>word</th>\n",
       "      <th>weight</th>\n",
       "    </tr>\n",
       "  </thead>\n",
       "  <tbody>\n",
       "    <tr>\n",
       "      <td>6604</td>\n",
       "      <td>kantong kering</td>\n",
       "      <td>0.51</td>\n",
       "    </tr>\n",
       "    <tr>\n",
       "      <td>6605</td>\n",
       "      <td>penggaruk</td>\n",
       "      <td>0.52</td>\n",
       "    </tr>\n",
       "    <tr>\n",
       "      <td>6606</td>\n",
       "      <td>senewen</td>\n",
       "      <td>0.51</td>\n",
       "    </tr>\n",
       "    <tr>\n",
       "      <td>6607</td>\n",
       "      <td>menetapkan</td>\n",
       "      <td>0.50</td>\n",
       "    </tr>\n",
       "    <tr>\n",
       "      <td>6608</td>\n",
       "      <td>kacang botor</td>\n",
       "      <td>0.52</td>\n",
       "    </tr>\n",
       "  </tbody>\n",
       "</table>\n",
       "</div>"
      ],
      "text/plain": [
       "                word  weight\n",
       "6604  kantong kering    0.51\n",
       "6605       penggaruk    0.52\n",
       "6606         senewen    0.51\n",
       "6607      menetapkan    0.50\n",
       "6608    kacang botor    0.52"
      ]
     },
     "execution_count": 32,
     "metadata": {},
     "output_type": "execute_result"
    }
   ],
   "source": [
    "word_dict.tail()"
   ]
  },
  {
   "cell_type": "code",
   "execution_count": 35,
   "metadata": {},
   "outputs": [],
   "source": [
    "word_dict = {}\n",
    "for i in range(wordlist.shape[0]):\n",
    "    word_dict[wordlist['word'][i]] = wordlist['weight'][i]"
   ]
  },
  {
   "cell_type": "code",
   "execution_count": 18,
   "metadata": {},
   "outputs": [],
   "source": [
    "def get_words_advanced(string):\n",
    "    split_words = []\n",
    "    for elem in string.lower().split():\n",
    "        if re.match(r'(.+)?(\\@|\\#|\\.).+', elem)==None:\n",
    "            elem = re.sub('[^(a-z|\\')]', '', elem)\n",
    "            if elem!='' and elem!='\\'':\n",
    "                split_words.append(elem)\n",
    "    return split_words\n"
   ]
  },
  {
   "cell_type": "code",
   "execution_count": 19,
   "metadata": {},
   "outputs": [],
   "source": [
    "def evaluate_tweet(tweet, lookup_dict, parse_funct):\n",
    "    hit_count, score = 0, 0\n",
    "    for word in parse_funct(tweet):\n",
    "        if word in lookup_dict:\n",
    "            hit_count += 1\n",
    "            score += lookup_dict[word]\n",
    "    if hit_count==0:\n",
    "        score = np.nan\n",
    "    else:\n",
    "        score = score/hit_count\n",
    "    return hit_count, score"
   ]
  },
  {
   "cell_type": "code",
   "execution_count": 37,
   "metadata": {},
   "outputs": [
    {
     "name": "stderr",
     "output_type": "stream",
     "text": [
      "100%|██████████| 154621/154621 [00:06<00:00, 24536.82it/s]\n"
     ]
    }
   ],
   "source": [
    "hit_counts, scores = [], []\n",
    "for i in tqdm(range(df.shape[0])):\n",
    "    hit_count, score = evaluate_tweet(tweet=df['tweet_text'][i], lookup_dict=word_dict, parse_funct=get_words_advanced)\n",
    "    hit_counts.append(hit_count)\n",
    "    scores.append(score)\n",
    "\n",
    "df = pd.DataFrame({'tweet_id':df['tweet_id'], 'hits':hit_counts, 'score': scores})\n"
   ]
  },
  {
   "cell_type": "code",
   "execution_count": 38,
   "metadata": {},
   "outputs": [
    {
     "data": {
      "text/html": [
       "<div>\n",
       "<style scoped>\n",
       "    .dataframe tbody tr th:only-of-type {\n",
       "        vertical-align: middle;\n",
       "    }\n",
       "\n",
       "    .dataframe tbody tr th {\n",
       "        vertical-align: top;\n",
       "    }\n",
       "\n",
       "    .dataframe thead th {\n",
       "        text-align: right;\n",
       "    }\n",
       "</style>\n",
       "<table border=\"1\" class=\"dataframe\">\n",
       "  <thead>\n",
       "    <tr style=\"text-align: right;\">\n",
       "      <th></th>\n",
       "      <th>tweet_id</th>\n",
       "      <th>hits</th>\n",
       "      <th>score</th>\n",
       "    </tr>\n",
       "  </thead>\n",
       "  <tbody>\n",
       "    <tr>\n",
       "      <td>0</td>\n",
       "      <td>1150558058994720776</td>\n",
       "      <td>1</td>\n",
       "      <td>0.200</td>\n",
       "    </tr>\n",
       "    <tr>\n",
       "      <td>1</td>\n",
       "      <td>1150558090044956673</td>\n",
       "      <td>4</td>\n",
       "      <td>0.625</td>\n",
       "    </tr>\n",
       "    <tr>\n",
       "      <td>2</td>\n",
       "      <td>1150558073771180032</td>\n",
       "      <td>1</td>\n",
       "      <td>0.200</td>\n",
       "    </tr>\n",
       "    <tr>\n",
       "      <td>3</td>\n",
       "      <td>1150558072911196160</td>\n",
       "      <td>1</td>\n",
       "      <td>0.800</td>\n",
       "    </tr>\n",
       "    <tr>\n",
       "      <td>4</td>\n",
       "      <td>1150558085716426752</td>\n",
       "      <td>2</td>\n",
       "      <td>0.500</td>\n",
       "    </tr>\n",
       "    <tr>\n",
       "      <td>...</td>\n",
       "      <td>...</td>\n",
       "      <td>...</td>\n",
       "      <td>...</td>\n",
       "    </tr>\n",
       "    <tr>\n",
       "      <td>154616</td>\n",
       "      <td>1150915001802248193</td>\n",
       "      <td>3</td>\n",
       "      <td>0.100</td>\n",
       "    </tr>\n",
       "    <tr>\n",
       "      <td>154617</td>\n",
       "      <td>1150914995367993344</td>\n",
       "      <td>2</td>\n",
       "      <td>0.500</td>\n",
       "    </tr>\n",
       "    <tr>\n",
       "      <td>154618</td>\n",
       "      <td>1150915001378410496</td>\n",
       "      <td>0</td>\n",
       "      <td>NaN</td>\n",
       "    </tr>\n",
       "    <tr>\n",
       "      <td>154619</td>\n",
       "      <td>1150915001479077889</td>\n",
       "      <td>10</td>\n",
       "      <td>0.350</td>\n",
       "    </tr>\n",
       "    <tr>\n",
       "      <td>154620</td>\n",
       "      <td>1150914992952074242</td>\n",
       "      <td>1</td>\n",
       "      <td>0.200</td>\n",
       "    </tr>\n",
       "  </tbody>\n",
       "</table>\n",
       "<p>154621 rows × 3 columns</p>\n",
       "</div>"
      ],
      "text/plain": [
       "                   tweet_id  hits  score\n",
       "0       1150558058994720776     1  0.200\n",
       "1       1150558090044956673     4  0.625\n",
       "2       1150558073771180032     1  0.200\n",
       "3       1150558072911196160     1  0.800\n",
       "4       1150558085716426752     2  0.500\n",
       "...                     ...   ...    ...\n",
       "154616  1150915001802248193     3  0.100\n",
       "154617  1150914995367993344     2  0.500\n",
       "154618  1150915001378410496     0    NaN\n",
       "154619  1150915001479077889    10  0.350\n",
       "154620  1150914992952074242     1  0.200\n",
       "\n",
       "[154621 rows x 3 columns]"
      ]
     },
     "execution_count": 38,
     "metadata": {},
     "output_type": "execute_result"
    }
   ],
   "source": [
    "df"
   ]
  },
  {
   "cell_type": "code",
   "execution_count": 39,
   "metadata": {},
   "outputs": [],
   "source": [
    "df.to_csv('../data/features/indonesian_sentiment.csv', index=False)"
   ]
  },
  {
   "cell_type": "code",
   "execution_count": null,
   "metadata": {},
   "outputs": [],
   "source": []
  }
 ],
 "metadata": {
  "kernelspec": {
   "display_name": "sandbox",
   "language": "python",
   "name": "sandbox"
  },
  "language_info": {
   "codemirror_mode": {
    "name": "ipython",
    "version": 3
   },
   "file_extension": ".py",
   "mimetype": "text/x-python",
   "name": "python",
   "nbconvert_exporter": "python",
   "pygments_lexer": "ipython3",
   "version": "3.7.4"
  }
 },
 "nbformat": 4,
 "nbformat_minor": 2
}
